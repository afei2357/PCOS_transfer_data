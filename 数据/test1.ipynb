{
 "cells": [
  {
   "cell_type": "code",
   "execution_count": 44,
   "metadata": {},
   "outputs": [],
   "source": [
    "from openpyxl import load_workbook\n",
    "from html.parser import HTMLParser\n",
    "import requests,base64,os\n",
    "from xml.etree import ElementTree  as ET\n",
    "# 运行之前记得关闭DevSidecar或者别的代理工具\n",
    "\n",
    "\n",
    "# 从1、GetLisRequest 接口（获取标本信息）\n",
    "def get_patient_info(hospSampleID):\n",
    "    data = f'''<?xml version=\"1.0\" encoding=\"utf-8\"?>\n",
    "            <soap12:Envelope xmlns:xsi=\"http://www.w3.org/2001/XMLSchema-instance\" xmlns:xsd=\"http://www.w3.org/2001/XMLSchema\" xmlns:soap12=\"http://www.w3.org/2003/05/soap-envelope\">\n",
    "            <soap12:Body><GetLisRequest xmlns=\"http://tempuri.org/\"><hospSampleID>{hospSampleID}</hospSampleID>\n",
    "            </GetLisRequest></soap12:Body></soap12:Envelope>'''\n",
    "    encode_data = data.encode('utf-8')\n",
    "    # print(data)\n",
    "    headers = {\"Host\": \"10.10.11.196\",\n",
    "            \"Content-Type\": \"application/soap+xml; charset=UTF-8\",\n",
    "            \"Content-Length\": str(len(encode_data)),\n",
    "            \"SOAPAction\": \"http://tempuri.org/GetLisRequest\"}\n",
    "    patient_info = requests.post('http://58.62.17.237:4431/ExtReportService', data=encode_data ,headers=headers)\n",
    "\n",
    "    print('patient_info.header----')\n",
    "    print(patient_info.headers)\n",
    "    print('patient_info.text----') \n",
    "    print(patient_info.text)\n",
    "\n",
    "    return patient_info.text\n",
    "\n",
    "\n",
    "class Parse(HTMLParser):\n",
    "    def __init__(self):\n",
    "    #Since Python 3, we need to call the __init__() function \n",
    "    #of the parent class\n",
    "        super().__init__()\n",
    "        self.reset()\n",
    "        self.data = None\n",
    " \n",
    "    def handle_data(self, data):\n",
    "        # print(\"Here's the data: \", data)\n",
    "        print('HTMLParser parsering data ')\n",
    "        self.data = data\n",
    "\n",
    " \n",
    " # 解析1GetLisRequest返回的xml信息：\n",
    "def get_LisRequest_data(patient_info):\n",
    "    def get_tag_raw(tag_name):\n",
    "        return root[0].find(tag_name).text    \n",
    "    dct = {}\n",
    "    parser = Parse()\n",
    "    parser.feed(patient_info)\n",
    "    data = parser.data\n",
    "    root = ET.fromstring(data)\n",
    "    \n",
    "    dct['lis_Barcode'] = get_tag_raw('lis_Barcode')\n",
    "    dct['blood_time'] = get_tag_raw('blood_time') \n",
    "    dct['lis_combine_code'] = root[0].find('LisItems').find('lis_item_code').text\n",
    "        \n",
    "    all_sub_items = root[0].find('LisItems').findall('SubItems') \n",
    "    dct['all_lis_item_code'] =  [item.find('lis_subitem_code').text for item in all_sub_items]\n",
    "    dct['all_lis_item_name'] =  [item.find('lis_subitem_name').text for item in all_sub_items]    \n",
    "       \n",
    "    print('----patient_info-all_lis_item_name dct -----') \n",
    "    print(dct)\n",
    "    # print(all_lis_item_name)\n",
    "    # with open('xmlfile/'+dct['lis_Barcode'] +'.xml','w',encoding='utf-8') as fh:\n",
    "    #     fh.write(data)\n",
    "    # return lis_Barcode,blood_time,lis_combine_code,all_lis_item_code\n",
    "    return dct\n",
    "   \n",
    "\n",
    "# 解析Excel报告的信息,这里的flag有两个，分别是5和17，\n",
    "# 如果是5，那就是 “雄激素5项(爱湾)”，如果是17，那就代表“17α-羟孕酮”\n",
    "# def get_excel_info(infile,hospSampleID,flag = '5'):\n",
    "def get_excel_info(infile,flag = '5'):\n",
    "    # all_lis_item_code =  ['32378', '32379', '32380', '32381', '32383']\n",
    "    # patient_info = get_patient_info(hospSampleID)\n",
    "    # dct = get_LisRequest_data(patient_info)\n",
    "    dct = {}\n",
    "    ex  = load_workbook(infile)\n",
    "    tb = ex['报告']\n",
    "    lis_Barcode= tb.cell(row=4,column=3).value\n",
    "    if flag == '5':\n",
    "        dct['lis_Barcode']   = str(lis_Barcode).split('+')[0]        \n",
    "    if flag == '17':\n",
    "        try:\n",
    "            dct['lis_Barcode']   = str(lis_Barcode).split('+')[-1]\n",
    "        except Exception as e:\n",
    "            print('lenth of lis_Barcode is less than 2 ')\n",
    "            print(lis_Barcode)\n",
    "            print(e)\n",
    "            \n",
    "    # 采样日期：\t\n",
    "    dct['blood_time'] = tb.cell(row=6,column=3).value\n",
    "    dct['ext_receive_time'],dct['ext_check_time'],dct['ext_report_time'] =  tb.cell(row=7,column=3).value, \\\n",
    "                                                                            tb.cell(row=7,column=7).value, \\\n",
    "                                                                            tb.cell(row=7,column=10).value\n",
    "   # sheet里面从B10到H16,即检测结果的内容：\n",
    "    result_info = ''\n",
    "    result_dct = {}\n",
    "    i  = 0\n",
    "    all_lis_item_code =  ['32378', '32379', '32380', '32383', '32381','32382']\n",
    "    all_lis_item_name =  ['睾酮', '雄烯二酮', '硫酸脱氢表雄酮', '双氢睾酮', '脱氢表雄酮','17α-羟孕酮']\n",
    "    all_lis_combine_code = ['32025']*5 + ['32024']\n",
    "    all_ref = [\n",
    "        \"0.02-0.45\",\n",
    "        ' 0.30-2.35',\n",
    "        '280-3900',\n",
    "        '＜0.30',\n",
    "        '19-30岁<13\\n31-40岁<10\\n41-50岁<8',\n",
    "        '卵泡期0.09-2.00;黄体期0.3-2.34'\n",
    "    ]\n",
    "    result_unit = 'ng/mL'\n",
    "    for row in range(10,16):\n",
    "        i += 1\n",
    "        if flag == '5' and i ==6:\n",
    "            continue \n",
    "        if flag == '17' and i  in (1,2,3,4,5):\n",
    "            continue \n",
    "#         result_dct['ext_item_code'] = all_lis_item_code\n",
    "        result_dct['ext_item_code'] = all_lis_item_code[i-1]\n",
    "        result_dct['lis_item_name'] = all_lis_item_name[i-1]\n",
    "        # ext_item_name = tb.cell(row=row,column=2).value\n",
    "        result_dct['lis_item_code'] = all_lis_item_code[i-1] \n",
    "        result_dct['result_reference'] = all_ref[i-1] \n",
    "        result_dct['result_unit'] = result_unit \n",
    "        result_dct['lis_combine_code'] = all_lis_combine_code[i-1]  \n",
    "\n",
    "        result_dct['result'] = tb.cell(row=row,column=7).value   \n",
    "        print('lis_item_nam--------')\n",
    "        print(all_lis_item_name[i-1],all_lis_item_code[i-1] ,result_dct['result'] )\n",
    "        # lis_item_name =  tb.cell(row=row,column=2).value\n",
    "        result_dct['ext_combine_code'] = result_dct['lis_combine_code']\n",
    "        \n",
    "        result_info += set_result_info(result_dct)\n",
    "    result_info = result_info + '<report_pic><pic_content>'  \n",
    "\n",
    "    return result_info ,  dct\n",
    "\n",
    "\n",
    "\n",
    "# 对每个检测项目的xml的result_info设置值\n",
    "# 对每个检测项目的xml的result_info设置值\n",
    "def set_result_info(dct):\n",
    "    print('*'*20)\n",
    "    print(dct)\n",
    "    result_info = f'''    \n",
    "    <result_info>\n",
    "        <result_seq/>\n",
    "        <ext_combine_code>{dct.get('ext_combine_code')}</ext_combine_code>\n",
    "        <ext_combine_name>{dct.get('ext_combine_name')}</ext_combine_name>\n",
    "        <ext_item_code>{dct.get('ext_item_code')}</ext_item_code>\n",
    "        <ext_item_name>{dct.get('ext_item_name')}</ext_item_name>\n",
    "        <result>        <![CDATA[{dct.get('result')}]]]]>>        <![CDATA[</result>\n",
    "        <result_unit>        <![CDATA[{dct.get('result_unit')}]]]]>>   <![CDATA[</result_unit>\n",
    "        <result_flag/>\n",
    "        <result_reference>    <![CDATA[{dct.get('result_reference')}]]]]>>       <![CDATA[</result_reference>\n",
    "        <result_date/>\n",
    "        <result_intstrmt_name/>\n",
    "        <result_test_method/>\n",
    "        <result_suggestion/>\n",
    "        <result_remark/>\n",
    "        <lis_combine_code>{dct.get('lis_combine_code')}</lis_combine_code>\n",
    "        <lis_combine_name>{dct.get('lis_combine_name')}</lis_combine_name>\n",
    "        <lis_item_code>{dct.get('lis_item_code')}</lis_item_code>\n",
    "        <lis_item_name>{dct.get('lis_item_name')}</lis_item_name>    \n",
    "    </result_info>\n",
    "   '''\n",
    "    return result_info\n",
    "\n",
    "# 要发送的xml的第一部分信息：\n",
    "# import string \n",
    "def set_data1(dct):\n",
    "    data1 = f'''\n",
    "    <soap:Envelope\n",
    "        xmlns:soap=\"http://www.w3.org/2003/05/soap-envelope\"\n",
    "        xmlns:tem=\"http://tempuri.org/\">\n",
    "        <soap:Header/>\n",
    "        <soap:Body>\n",
    "            <tem:UploadLisRepData>\n",
    "                <!--Optional:-->\n",
    "                <tem:reportResult>\n",
    "                    <![CDATA[<Report_Result><Report_Info>\n",
    "                    <ext_lab_code></ext_lab_code>\n",
    "                    <lis_Barcode>{dct.get('lis_Barcode')}</lis_Barcode>\n",
    "                    <ext_Barcode>{dct.get('ext_Barcode')}</ext_Barcode>\n",
    "                    <ext_checkItem/>\n",
    "                    <pat_name/>\n",
    "                    <pat_age></pat_age>\n",
    "                    <pat_height/>\n",
    "                    <pat_wight/>\n",
    "                    <pat_pre_week/>\n",
    "                    <pat_id/>\n",
    "                    <pat_bedNo/>\n",
    "                    <pat_tel/>\n",
    "                    <pat_sex/>\n",
    "                    <pat_birthday/>\n",
    "                    <pat_ori_name/>\n",
    "                    <sam_name/>\n",
    "                    <sam_state/>\n",
    "                    <doctor_name/>\n",
    "                    <dept_name/>\n",
    "                    <clinical_diag/>\n",
    "                    <SampleNumber/>\n",
    "                    <blood_time>{dct.get('blood_time')}</blood_time>\n",
    "                    <ext_check_ID/>\n",
    "                    <ext_receive_time>{dct.get('ext_receive_time')}</ext_receive_time>\n",
    "                    <ext_upload_time/>\n",
    "                    <ext_report_suggestion/>\n",
    "                    <ext_report_remark/>\n",
    "                    <ext_intstrmt_name/>\n",
    "                    <ext_lab_name/>\n",
    "                    <ext_report_type/>\n",
    "                    <ext_check_time/>\n",
    "                    <ext_first_audit_time/>\n",
    "                    <ext_first_audit_time/>\n",
    "                    <ext_second_audit_time/>\n",
    "                    <ext_checker/>\n",
    "                    <ext_first_audit/>\n",
    "                    <ext_second_audit/>\n",
    "                    <ext_report_code>{dct.get('lis_Barcode')}</ext_report_code>\n",
    "    '''\n",
    "    return data1 \n",
    "\n",
    "\n",
    "# pdf部分\n",
    "def get_pdf(inpdf):\n",
    "    data2 = ''\n",
    "    with open(inpdf,'rb') as fh:\n",
    "            data2 = base64.b64encode(fh.read())\n",
    "    return data2\n",
    "\n",
    "# 最后是将xml和pdf的信息发送到妇幼\n",
    "def send_data(dct,data1,result_info,data2):\n",
    "    # xml的结尾部分\n",
    "    data3 = '''</pic_content><pic_name>{dct.get('lis_Barcode')}_report_base64.pdf</pic_name><pic_seq></pic_seq></report_pic></Report_Info></Report_Result>]]>\n",
    "            </tem:reportResult>\n",
    "        </tem:UploadLisRepData>\n",
    "    </soap:Body>\n",
    "</soap:Envelope>\n",
    "    '''\n",
    "    encode_data = data1.encode('utf-8') +result_info.encode('utf-8') + data2 +  data3.encode('utf-8')\n",
    "    \n",
    "    headers = {\"Host\": \"10.10.11.196\",\n",
    "            \"Content-Type\": \"text/xml; charset=utf-8\",\n",
    "            \"Content-Length\": str(len(encode_data)) ,#}\n",
    "            \"SOAPAction\": \"http://tempuri.org/UploadLisRepData\"}\n",
    "    patient_info = requests.post(f'http://58.62.17.237:4431/ExtReportService', data=encode_data ,headers=headers)\n",
    "\n",
    "    print('patient_info.text----')    \n",
    "    print(patient_info.text)\n",
    "\n",
    "    if not os.path.exists('workdir'):\n",
    "        os.mkdir('workdir')\n",
    "    with open('./workdir/'+ dct.get('lis_Barcode') + '.xml','wb') as fh:\n",
    "        fh.write(encode_data)\n",
    "\n",
    "\n",
    "def main_send_2type(excel_file_path):\n",
    "    file_path , excel_file_name = os.path.split(os.path.abspath(p))\n",
    "    def send_1type(flag):        \n",
    "        result_info , dct = get_excel_info(excel_file_path,flag=flag)\n",
    "        data1 = set_data1(dct)\n",
    "        inpdf = excel_file_path.rstrip('xlsx') + 'pdf'\n",
    "        data2 = get_pdf(inpdf)\n",
    "        send_data(dct,data1,result_info,data2)\n",
    "        print(inpdf)\n",
    "    send_1type('5')\n",
    "    send_1type('17')    "
   ]
  },
  {
   "cell_type": "code",
   "execution_count": 10,
   "metadata": {},
   "outputs": [],
   "source": [
    "# hospSampleID = '3243146536'\n",
    "# file_name = '陈嘉绮-激素检测报告-2022-05-25'\n",
    "# file_path = 'E:/linuxPathFile/shenZhen_CentOs/project/long-term-proj/pcos/PCOS_transfer_data-new/数据/省妇幼报告/' + file_name \n",
    "# infile = file_path + '.xlsx'\n",
    "# result_info , dct = get_excel_info(infile,flag='5')\n",
    "# # result_info , dct = get_excel_info(infile,hospSampleID,flag='17')\n",
    "# data1 = set_data1(dct)\n",
    "# # infile = file_path + '.pdf'\n",
    "# inpdf = file_path + '.pdf'\n",
    "# data2 = get_pdf(inpdf)\n",
    "# # send_data(dct,data1,result_info,data2)\n",
    "# print(inpdf)"
   ]
  },
  {
   "cell_type": "code",
   "execution_count": null,
   "metadata": {},
   "outputs": [],
   "source": []
  },
  {
   "cell_type": "code",
   "execution_count": null,
   "metadata": {},
   "outputs": [],
   "source": []
  },
  {
   "cell_type": "code",
   "execution_count": null,
   "metadata": {},
   "outputs": [],
   "source": []
  },
  {
   "cell_type": "code",
   "execution_count": null,
   "metadata": {},
   "outputs": [],
   "source": []
  },
  {
   "cell_type": "code",
   "execution_count": 12,
   "metadata": {},
   "outputs": [
    {
     "name": "stdout",
     "output_type": "stream",
     "text": [
      "lis_item_nam--------\n",
      "睾酮 32378 0.456\n",
      "********************\n",
      "{'ext_item_code': '32378', 'lis_item_name': '睾酮', 'lis_item_code': '32378', 'result_reference': '0.02-0.45', 'result_unit': 'ng/mL', 'lis_combine_code': '32025', 'result': 0.456, 'ext_combine_code': '32025'}\n",
      "lis_item_nam--------\n",
      "雄烯二酮 32379 2.826\n",
      "********************\n",
      "{'ext_item_code': '32379', 'lis_item_name': '雄烯二酮', 'lis_item_code': '32379', 'result_reference': ' 0.30-2.35', 'result_unit': 'ng/mL', 'lis_combine_code': '32025', 'result': 2.826, 'ext_combine_code': '32025'}\n",
      "lis_item_nam--------\n",
      "硫酸脱氢表雄酮 32380 1596.602\n",
      "********************\n",
      "{'ext_item_code': '32380', 'lis_item_name': '硫酸脱氢表雄酮', 'lis_item_code': '32380', 'result_reference': '280-3900', 'result_unit': 'ng/mL', 'lis_combine_code': '32025', 'result': 1596.602, 'ext_combine_code': '32025'}\n",
      "lis_item_nam--------\n",
      "双氢睾酮 32383 0.101\n",
      "********************\n",
      "{'ext_item_code': '32383', 'lis_item_name': '双氢睾酮', 'lis_item_code': '32383', 'result_reference': '＜0.30', 'result_unit': 'ng/mL', 'lis_combine_code': '32025', 'result': 0.101, 'ext_combine_code': '32025'}\n",
      "lis_item_nam--------\n",
      "脱氢表雄酮 32381 6.255\n",
      "********************\n",
      "{'ext_item_code': '32381', 'lis_item_name': '脱氢表雄酮', 'lis_item_code': '32381', 'result_reference': '19-30岁<13\\n31-40岁<10\\n41-50岁<8', 'result_unit': 'ng/mL', 'lis_combine_code': '32025', 'result': 6.255, 'ext_combine_code': '32025'}\n",
      "D:/PCOS_project/PCOS_transfer_data/数据/省妇幼报告/陈嘉绮-激素检测报告-2022-05-25.pdf\n"
     ]
    }
   ],
   "source": [
    "# hospSampleID = '3243146536'\n",
    "file_name = '陈嘉绮-激素检测报告-2022-05-25'\n",
    "# file_path = 'E:/linuxPathFile/shenZhen_CentOs/project/long-term-proj/pcos/PCOS_transfer_data-new/数据/省妇幼报告/' + file_name \n",
    "file_path = 'D:/PCOS_project/PCOS_transfer_data/数据/省妇幼报告/' + file_name \n",
    "\n",
    "infile = file_path + '.xlsx'\n",
    "result_info , dct = get_excel_info(infile,flag='5')\n",
    "# result_info , dct = get_excel_info(infile,hospSampleID,flag='17')\n",
    "data1 = set_data1(dct)\n",
    "# infile = file_path + '.pdf'\n",
    "inpdf = file_path + '.pdf'\n",
    "data2 = get_pdf(inpdf)\n",
    "# send_data(dct,data1,result_info,data2)\n",
    "print(inpdf)"
   ]
  },
  {
   "cell_type": "code",
   "execution_count": 47,
   "metadata": {},
   "outputs": [],
   "source": [
    "def main_send_2type(excel_file_path):\n",
    "    file_path , excel_file_name = os.path.split(os.path.abspath(p))\n",
    "    def send_1type(flag):        \n",
    "        result_info , dct = get_excel_info(excel_file_path,flag=flag)\n",
    "        data1 = set_data1(dct)\n",
    "        inpdf = excel_file_path.rstrip('xlsx') + 'pdf'\n",
    "        data2 = get_pdf(inpdf)\n",
    "        send_data(dct,data1,result_info,data2)\n",
    "        print(inpdf)\n",
    "    send_1type('5')\n",
    "    send_1type('17')    "
   ]
  },
  {
   "cell_type": "code",
   "execution_count": 49,
   "metadata": {
    "tags": []
   },
   "outputs": [
    {
     "name": "stdout",
     "output_type": "stream",
     "text": [
      "lis_item_nam--------\n",
      "睾酮 32378 0.28\n",
      "********************\n",
      "{'ext_item_code': '32378', 'lis_item_name': '睾酮', 'lis_item_code': '32378', 'result_reference': '0.02-0.45', 'result_unit': 'ng/mL', 'lis_combine_code': '32025', 'result': 0.28, 'ext_combine_code': '32025'}\n",
      "lis_item_nam--------\n",
      "雄烯二酮 32379 1.31\n",
      "********************\n",
      "{'ext_item_code': '32379', 'lis_item_name': '雄烯二酮', 'lis_item_code': '32379', 'result_reference': ' 0.30-2.35', 'result_unit': 'ng/mL', 'lis_combine_code': '32025', 'result': 1.31, 'ext_combine_code': '32025'}\n",
      "lis_item_nam--------\n",
      "硫酸脱氢表雄酮 32380 1627.726\n",
      "********************\n",
      "{'ext_item_code': '32380', 'lis_item_name': '硫酸脱氢表雄酮', 'lis_item_code': '32380', 'result_reference': '280-3900', 'result_unit': 'ng/mL', 'lis_combine_code': '32025', 'result': 1627.726, 'ext_combine_code': '32025'}\n",
      "lis_item_nam--------\n",
      "双氢睾酮 32383 0.138\n",
      "********************\n",
      "{'ext_item_code': '32383', 'lis_item_name': '双氢睾酮', 'lis_item_code': '32383', 'result_reference': '＜0.30', 'result_unit': 'ng/mL', 'lis_combine_code': '32025', 'result': 0.138, 'ext_combine_code': '32025'}\n",
      "lis_item_nam--------\n",
      "脱氢表雄酮 32381 6.117\n",
      "********************\n",
      "{'ext_item_code': '32381', 'lis_item_name': '脱氢表雄酮', 'lis_item_code': '32381', 'result_reference': '19-30岁<13\\n31-40岁<10\\n41-50岁<8', 'result_unit': 'ng/mL', 'lis_combine_code': '32025', 'result': 6.117, 'ext_combine_code': '32025'}\n",
      "patient_info.text----\n",
      "<?xml version=\"1.0\" encoding=\"utf-8\"?><soap:Envelope xmlns:soap=\"http://www.w3.org/2003/05/soap-envelope\" xmlns:xsi=\"http://www.w3.org/2001/XMLSchema-instance\" xmlns:xsd=\"http://www.w3.org/2001/XMLSchema\"><soap:Body><UploadLisRepDataResponse xmlns=\"http://tempuri.org/\"><UploadLisRepDataResult>success</UploadLisRepDataResult></UploadLisRepDataResponse></soap:Body></soap:Envelope>\n",
      "E:/project/common/2022/05/5.26/省妇幼pcos报告-2022-05-27/毛慧敏-激素检测报告-2022-05-27.pdf\n",
      "lis_item_nam--------\n",
      "17α-羟孕酮 32382 0.452\n",
      "********************\n",
      "{'ext_item_code': '32382', 'lis_item_name': '17α-羟孕酮', 'lis_item_code': '32382', 'result_reference': '卵泡期0.09-2.00;黄体期0.3-2.34', 'result_unit': 'ng/mL', 'lis_combine_code': '32024', 'result': 0.452, 'ext_combine_code': '32024'}\n",
      "patient_info.text----\n",
      "<?xml version=\"1.0\" encoding=\"utf-8\"?><soap:Envelope xmlns:soap=\"http://www.w3.org/2003/05/soap-envelope\" xmlns:xsi=\"http://www.w3.org/2001/XMLSchema-instance\" xmlns:xsd=\"http://www.w3.org/2001/XMLSchema\"><soap:Body><UploadLisRepDataResponse xmlns=\"http://tempuri.org/\"><UploadLisRepDataResult>success</UploadLisRepDataResult></UploadLisRepDataResponse></soap:Body></soap:Envelope>\n",
      "E:/project/common/2022/05/5.26/省妇幼pcos报告-2022-05-27/毛慧敏-激素检测报告-2022-05-27.pdf\n"
     ]
    }
   ],
   "source": [
    "excel_file_path = 'E:/project/common/2022/05/5.26/省妇幼pcos报告-2022-05-27/毛慧敏-激素检测报告-2022-05-27.xlsx'\n",
    "main_send_2type(excel_file_path)\n"
   ]
  },
  {
   "cell_type": "code",
   "execution_count": 48,
   "metadata": {},
   "outputs": [
    {
     "name": "stdout",
     "output_type": "stream",
     "text": [
      "lis_item_nam--------\n",
      "睾酮 32378 0.343\n",
      "********************\n",
      "{'ext_item_code': '32378', 'lis_item_name': '睾酮', 'lis_item_code': '32378', 'result_reference': '0.02-0.45', 'result_unit': 'ng/mL', 'lis_combine_code': '32025', 'result': 0.343, 'ext_combine_code': '32025'}\n",
      "lis_item_nam--------\n",
      "雄烯二酮 32379 1.605\n",
      "********************\n",
      "{'ext_item_code': '32379', 'lis_item_name': '雄烯二酮', 'lis_item_code': '32379', 'result_reference': ' 0.30-2.35', 'result_unit': 'ng/mL', 'lis_combine_code': '32025', 'result': 1.605, 'ext_combine_code': '32025'}\n",
      "lis_item_nam--------\n",
      "硫酸脱氢表雄酮 32380 2932.347\n",
      "********************\n",
      "{'ext_item_code': '32380', 'lis_item_name': '硫酸脱氢表雄酮', 'lis_item_code': '32380', 'result_reference': '280-3900', 'result_unit': 'ng/mL', 'lis_combine_code': '32025', 'result': 2932.347, 'ext_combine_code': '32025'}\n",
      "lis_item_nam--------\n",
      "双氢睾酮 32383 0.094\n",
      "********************\n",
      "{'ext_item_code': '32383', 'lis_item_name': '双氢睾酮', 'lis_item_code': '32383', 'result_reference': '＜0.30', 'result_unit': 'ng/mL', 'lis_combine_code': '32025', 'result': 0.094, 'ext_combine_code': '32025'}\n",
      "lis_item_nam--------\n",
      "脱氢表雄酮 32381 6.343\n",
      "********************\n",
      "{'ext_item_code': '32381', 'lis_item_name': '脱氢表雄酮', 'lis_item_code': '32381', 'result_reference': '19-30岁<13\\n31-40岁<10\\n41-50岁<8', 'result_unit': 'ng/mL', 'lis_combine_code': '32025', 'result': 6.343, 'ext_combine_code': '32025'}\n",
      "patient_info.text----\n",
      "<?xml version=\"1.0\" encoding=\"utf-8\"?><soap:Envelope xmlns:soap=\"http://www.w3.org/2003/05/soap-envelope\" xmlns:xsi=\"http://www.w3.org/2001/XMLSchema-instance\" xmlns:xsd=\"http://www.w3.org/2001/XMLSchema\"><soap:Body><UploadLisRepDataResponse xmlns=\"http://tempuri.org/\"><UploadLisRepDataResult>success</UploadLisRepDataResult></UploadLisRepDataResponse></soap:Body></soap:Envelope>\n",
      "E:/project/common/2022/05/5.26/省妇幼pcos报告-2022-05-27/赵素平-激素检测报告-2022-05-27.pdf\n",
      "lis_item_nam--------\n",
      "17α-羟孕酮 32382 1.15\n",
      "********************\n",
      "{'ext_item_code': '32382', 'lis_item_name': '17α-羟孕酮', 'lis_item_code': '32382', 'result_reference': '卵泡期0.09-2.00;黄体期0.3-2.34', 'result_unit': 'ng/mL', 'lis_combine_code': '32024', 'result': 1.15, 'ext_combine_code': '32024'}\n",
      "patient_info.text----\n",
      "<?xml version=\"1.0\" encoding=\"utf-8\"?><soap:Envelope xmlns:soap=\"http://www.w3.org/2003/05/soap-envelope\" xmlns:xsi=\"http://www.w3.org/2001/XMLSchema-instance\" xmlns:xsd=\"http://www.w3.org/2001/XMLSchema\"><soap:Body><UploadLisRepDataResponse xmlns=\"http://tempuri.org/\"><UploadLisRepDataResult>success</UploadLisRepDataResult></UploadLisRepDataResponse></soap:Body></soap:Envelope>\n",
      "E:/project/common/2022/05/5.26/省妇幼pcos报告-2022-05-27/赵素平-激素检测报告-2022-05-27.pdf\n"
     ]
    }
   ],
   "source": [
    "excel_file_path = 'E:/project/common/2022/05/5.26/省妇幼pcos报告-2022-05-27/赵素平-激素检测报告-2022-05-27.xlsx'\n",
    "main_send_2type(excel_file_path)"
   ]
  },
  {
   "cell_type": "code",
   "execution_count": 26,
   "metadata": {},
   "outputs": [],
   "source": [
    "file_path , excel_file_name = os.path.split(os.path.abspath(p))\n",
    "file_name = os.path.splitext(excel_file_name)\n",
    "inpdf = excel_file_path.rstrip('xlsx') + 'pdf'"
   ]
  },
  {
   "cell_type": "code",
   "execution_count": 28,
   "metadata": {},
   "outputs": [
    {
     "data": {
      "text/plain": [
       "True"
      ]
     },
     "execution_count": 28,
     "metadata": {},
     "output_type": "execute_result"
    }
   ],
   "source": [
    "os.path.exists(inpdf)"
   ]
  },
  {
   "cell_type": "code",
   "execution_count": 29,
   "metadata": {},
   "outputs": [
    {
     "data": {
      "text/plain": [
       "('毛慧敏-激素检测报告-2022-05-27', '.xlsx')"
      ]
     },
     "execution_count": 29,
     "metadata": {},
     "output_type": "execute_result"
    }
   ],
   "source": [
    "file_name"
   ]
  },
  {
   "cell_type": "code",
   "execution_count": 19,
   "metadata": {},
   "outputs": [],
   "source": [
    "file_path , excel_file_name = os.path.split(os.path.abspath(p))\n",
    "file_name = os.path.splitext(excel_file_name)"
   ]
  },
  {
   "cell_type": "code",
   "execution_count": 20,
   "metadata": {},
   "outputs": [
    {
     "data": {
      "text/plain": [
       "'E:\\\\project\\\\common\\\\2022\\\\05\\\\5.26\\\\省妇幼pcos报告-2022-05-27'"
      ]
     },
     "execution_count": 20,
     "metadata": {},
     "output_type": "execute_result"
    }
   ],
   "source": [
    "file_path"
   ]
  },
  {
   "cell_type": "code",
   "execution_count": 21,
   "metadata": {},
   "outputs": [
    {
     "data": {
      "text/plain": [
       "'毛慧敏-激素检测报告-2022-05-27.xlsx'"
      ]
     },
     "execution_count": 21,
     "metadata": {},
     "output_type": "execute_result"
    }
   ],
   "source": [
    "excel_file_name"
   ]
  },
  {
   "cell_type": "code",
   "execution_count": 23,
   "metadata": {},
   "outputs": [
    {
     "data": {
      "text/plain": [
       "('毛慧敏-激素检测报告-2022-05-27', '.xlsx')"
      ]
     },
     "execution_count": 23,
     "metadata": {},
     "output_type": "execute_result"
    }
   ],
   "source": [
    "os.path.splitext(excel_file_name)"
   ]
  },
  {
   "cell_type": "code",
   "execution_count": 61,
   "metadata": {},
   "outputs": [],
   "source": [
    "# 获取某个目录下面所有的xlsx文件：\n",
    "def list_all_files(rootdir):\n",
    "    import os\n",
    "    _files = []\n",
    "\t# 列出文件夹下所有的目录与文件\n",
    "    list = os.listdir(rootdir)\n",
    "    for i in range(0, len(list)):\n",
    "\t\t# 构造路径\n",
    "        path = os.path.join(rootdir, list[i])\n",
    "\t\t# 判断路径是否为文件目录或者文件\n",
    "\t\t# 如果是目录则继续递归\n",
    "        if os.path.isdir(path):\n",
    "            _files.extend(list_all_files(path))\n",
    "        if os.path.isfile(path):\n",
    "            if path.endswith('.xlsx'):\n",
    "                _files.append(path)\n",
    "    return _files"
   ]
  },
  {
   "cell_type": "code",
   "execution_count": 62,
   "metadata": {},
   "outputs": [
    {
     "data": {
      "text/plain": [
       "['E:/project/common/2022/05/5.26/省妇幼pcos报告-2022-05-25\\\\省妇幼pcos报告-2022-05-25\\\\何丽敏-激素检测报告-2022-05-25.xlsx',\n",
       " 'E:/project/common/2022/05/5.26/省妇幼pcos报告-2022-05-25\\\\省妇幼pcos报告-2022-05-25\\\\何佩怡-激素检测报告-2022-05-25.xlsx',\n",
       " 'E:/project/common/2022/05/5.26/省妇幼pcos报告-2022-05-25\\\\省妇幼pcos报告-2022-05-25\\\\刘晓翠-激素检测报告-2022-05-25.xlsx',\n",
       " 'E:/project/common/2022/05/5.26/省妇幼pcos报告-2022-05-25\\\\省妇幼pcos报告-2022-05-25\\\\庄洁-激素检测报告-2022-05-25.xlsx',\n",
       " 'E:/project/common/2022/05/5.26/省妇幼pcos报告-2022-05-25\\\\省妇幼pcos报告-2022-05-25\\\\李捷-激素检测报告-2022-05-25.xlsx',\n",
       " 'E:/project/common/2022/05/5.26/省妇幼pcos报告-2022-05-25\\\\省妇幼pcos报告-2022-05-25\\\\潘琦-激素检测报告-2022-05-25.xlsx',\n",
       " 'E:/project/common/2022/05/5.26/省妇幼pcos报告-2022-05-25\\\\省妇幼pcos报告-2022-05-25\\\\罗冬红-激素检测报告-2022-05-25.xlsx',\n",
       " 'E:/project/common/2022/05/5.26/省妇幼pcos报告-2022-05-25\\\\省妇幼pcos报告-2022-05-25\\\\郑佳娜-激素检测报告-2022-05-25.xlsx',\n",
       " 'E:/project/common/2022/05/5.26/省妇幼pcos报告-2022-05-25\\\\省妇幼pcos报告-2022-05-25\\\\陈嘉绮-激素检测报告-2022-05-25.xlsx',\n",
       " 'E:/project/common/2022/05/5.26/省妇幼pcos报告-2022-05-25\\\\省妇幼pcos报告-2022-05-25\\\\陈钰莹-激素检测报告-2022-05-25.xlsx',\n",
       " 'E:/project/common/2022/05/5.26/省妇幼pcos报告-2022-05-25\\\\省妇幼pcos报告-2022-05-25\\\\黄灵怡-激素检测报告-2022-05-25.xlsx',\n",
       " 'E:/project/common/2022/05/5.26/省妇幼pcos报告-2022-05-27\\\\毛慧敏-激素检测报告-2022-05-27.xlsx',\n",
       " 'E:/project/common/2022/05/5.26/省妇幼pcos报告-2022-05-27\\\\赵素平-激素检测报告-2022-05-27.xlsx',\n",
       " 'E:/project/common/2022/05/5.26/省妇幼报告-辜清泉\\\\省妇幼报告\\\\何丽敏-激素检测报告-2022-05-25.xlsx',\n",
       " 'E:/project/common/2022/05/5.26/省妇幼报告-辜清泉\\\\省妇幼报告\\\\何佩怡-激素检测报告-2022-05-25.xlsx',\n",
       " 'E:/project/common/2022/05/5.26/省妇幼报告-辜清泉\\\\省妇幼报告\\\\刘晓翠-激素检测报告-2022-05-25.xlsx',\n",
       " 'E:/project/common/2022/05/5.26/省妇幼报告-辜清泉\\\\省妇幼报告\\\\庄洁-激素检测报告-2022-05-25.xlsx',\n",
       " 'E:/project/common/2022/05/5.26/省妇幼报告-辜清泉\\\\省妇幼报告\\\\李捷-激素检测报告-2022-05-25.xlsx',\n",
       " 'E:/project/common/2022/05/5.26/省妇幼报告-辜清泉\\\\省妇幼报告\\\\潘琦-激素检测报告-2022-05-25.xlsx',\n",
       " 'E:/project/common/2022/05/5.26/省妇幼报告-辜清泉\\\\省妇幼报告\\\\罗冬红-激素检测报告-2022-05-25.xlsx',\n",
       " 'E:/project/common/2022/05/5.26/省妇幼报告-辜清泉\\\\省妇幼报告\\\\郑佳娜-激素检测报告-2022-05-25.xlsx',\n",
       " 'E:/project/common/2022/05/5.26/省妇幼报告-辜清泉\\\\省妇幼报告\\\\郝海萍-激素检测报告-2022-05-20.xlsx',\n",
       " 'E:/project/common/2022/05/5.26/省妇幼报告-辜清泉\\\\省妇幼报告\\\\陈嘉绮-激素检测报告-2022-05-25.xlsx',\n",
       " 'E:/project/common/2022/05/5.26/省妇幼报告-辜清泉\\\\省妇幼报告\\\\陈钰莹-激素检测报告-2022-05-25.xlsx',\n",
       " 'E:/project/common/2022/05/5.26/省妇幼报告-辜清泉\\\\省妇幼报告\\\\黄灵怡-激素检测报告-2022-05-25.xlsx']"
      ]
     },
     "execution_count": 62,
     "metadata": {},
     "output_type": "execute_result"
    }
   ],
   "source": [
    "excel_file_path = 'E:/project/common/2022/05/5.26/'\n",
    "# excel_file_path = './'\n",
    "\n",
    "# main_send_2type(excel_file_path)\n",
    "list_all_files(excel_file_path)"
   ]
  },
  {
   "cell_type": "code",
   "execution_count": 70,
   "metadata": {},
   "outputs": [],
   "source": [
    "import zipfile,rarfile"
   ]
  },
  {
   "cell_type": "code",
   "execution_count": 67,
   "metadata": {},
   "outputs": [
    {
     "name": "stdout",
     "output_type": "stream",
     "text": [
      "Looking in indexes: https://mirrors.aliyun.com/pypi/simple/\n",
      "Collecting rarfile\n",
      "  Downloading https://mirrors.aliyun.com/pypi/packages/95/f4/c92fab227c7457e3b76a4096ccb655ded9deac869849cb03afbe55dfdc1e/rarfile-4.0-py3-none-any.whl (28 kB)\n",
      "Installing collected packages: rarfile\n",
      "Successfully installed rarfile-4.0\n",
      "Note: you may need to restart the kernel to use updated packages.\n"
     ]
    }
   ],
   "source": [
    "# pip install rarfile"
   ]
  },
  {
   "cell_type": "code",
   "execution_count": 73,
   "metadata": {},
   "outputs": [],
   "source": [
    "in_zipfile = u'D:\\PCOS_project\\PCOS_transfer_data\\数据\\workdir1\\省妇幼pcos报告-2022-05-27.zip'"
   ]
  },
  {
   "cell_type": "code",
   "execution_count": 74,
   "metadata": {},
   "outputs": [
    {
     "data": {
      "text/plain": [
       "'D:\\\\PCOS_project\\\\PCOS_transfer_data\\\\数据\\\\workdir1\\\\省妇幼pcos报告-2022-05-27.zip'"
      ]
     },
     "execution_count": 74,
     "metadata": {},
     "output_type": "execute_result"
    }
   ],
   "source": [
    "in_zipfile"
   ]
  },
  {
   "cell_type": "code",
   "execution_count": 75,
   "metadata": {},
   "outputs": [],
   "source": [
    "z = zipfile.ZipFile(in_zipfile)"
   ]
  },
  {
   "cell_type": "code",
   "execution_count": 76,
   "metadata": {},
   "outputs": [
    {
     "data": {
      "text/plain": [
       "<zipfile.ZipFile filename='D:\\\\PCOS_project\\\\PCOS_transfer_data\\\\数据\\\\workdir1\\\\省妇幼pcos报告-2022-05-27.zip' mode='r'>"
      ]
     },
     "execution_count": 76,
     "metadata": {},
     "output_type": "execute_result"
    }
   ],
   "source": [
    "z"
   ]
  },
  {
   "cell_type": "code",
   "execution_count": 77,
   "metadata": {},
   "outputs": [
    {
     "data": {
      "text/plain": [
       "['╩í╕╛╙╫pcos▒¿╕µ-2022-05-27/',\n",
       " '╩í╕╛╙╫pcos▒¿╕µ-2022-05-27/├½╗█├⌠-╝ñ╦╪╝∞▓Γ▒¿╕µ-2022-05-27.pdf',\n",
       " '╩í╕╛╙╫pcos▒¿╕µ-2022-05-27/├½╗█├⌠-╝ñ╦╪╝∞▓Γ▒¿╕µ-2022-05-27.xlsx',\n",
       " '╩í╕╛╙╫pcos▒¿╕µ-2022-05-27/╒╘╦╪╞╜-╝ñ╦╪╝∞▓Γ▒¿╕µ-2022-05-27.pdf',\n",
       " '╩í╕╛╙╫pcos▒¿╕µ-2022-05-27/╒╘╦╪╞╜-╝ñ╦╪╝∞▓Γ▒¿╕µ-2022-05-27.xlsx']"
      ]
     },
     "execution_count": 77,
     "metadata": {},
     "output_type": "execute_result"
    }
   ],
   "source": [
    "z.namelist()"
   ]
  },
  {
   "cell_type": "code",
   "execution_count": 82,
   "metadata": {},
   "outputs": [],
   "source": [
    "z.extractall('D:/PCOS_project/PCOS_transfer_data/数据/workdir1/test_extract')"
   ]
  },
  {
   "cell_type": "code",
   "execution_count": 89,
   "metadata": {},
   "outputs": [
    {
     "name": "stdout",
     "output_type": "stream",
     "text": [
      "╩í╕╛╙╫pcos▒¿╕µ-2022-05-27/\n",
      "b'\\xe2\\x95\\xa9\\xc3\\xad\\xe2\\x95\\x95\\xe2\\x95\\x9b\\xe2\\x95\\x99\\xe2\\x95\\xabpcos\\xe2\\x96\\x92\\xc2\\xbf\\xe2\\x95\\x95\\xc2\\xb5-2022-05-27/'\n",
      "--------1\n",
      "省妇幼pcos报告-2022-05-27/\n",
      "--------2\n",
      "╩í╕╛╙╫pcos▒¿╕µ-2022-05-27/├½╗█├⌠-╝ñ╦╪╝∞▓Γ▒¿╕µ-2022-05-27.pdf\n",
      "b'\\xe2\\x95\\xa9\\xc3\\xad\\xe2\\x95\\x95\\xe2\\x95\\x9b\\xe2\\x95\\x99\\xe2\\x95\\xabpcos\\xe2\\x96\\x92\\xc2\\xbf\\xe2\\x95\\x95\\xc2\\xb5-2022-05-27/\\xe2\\x94\\x9c\\xc2\\xbd\\xe2\\x95\\x97\\xe2\\x96\\x88\\xe2\\x94\\x9c\\xe2\\x8c\\xa0-\\xe2\\x95\\x9d\\xc3\\xb1\\xe2\\x95\\xa6\\xe2\\x95\\xaa\\xe2\\x95\\x9d\\xe2\\x88\\x9e\\xe2\\x96\\x93\\xce\\x93\\xe2\\x96\\x92\\xc2\\xbf\\xe2\\x95\\x95\\xc2\\xb5-2022-05-27.pdf'\n",
      "--------1\n",
      "省妇幼pcos报告-2022-05-27/毛慧敏-激素检测报告-2022-05-27.pdf\n",
      "--------2\n",
      "╩í╕╛╙╫pcos▒¿╕µ-2022-05-27/├½╗█├⌠-╝ñ╦╪╝∞▓Γ▒¿╕µ-2022-05-27.xlsx\n",
      "b'\\xe2\\x95\\xa9\\xc3\\xad\\xe2\\x95\\x95\\xe2\\x95\\x9b\\xe2\\x95\\x99\\xe2\\x95\\xabpcos\\xe2\\x96\\x92\\xc2\\xbf\\xe2\\x95\\x95\\xc2\\xb5-2022-05-27/\\xe2\\x94\\x9c\\xc2\\xbd\\xe2\\x95\\x97\\xe2\\x96\\x88\\xe2\\x94\\x9c\\xe2\\x8c\\xa0-\\xe2\\x95\\x9d\\xc3\\xb1\\xe2\\x95\\xa6\\xe2\\x95\\xaa\\xe2\\x95\\x9d\\xe2\\x88\\x9e\\xe2\\x96\\x93\\xce\\x93\\xe2\\x96\\x92\\xc2\\xbf\\xe2\\x95\\x95\\xc2\\xb5-2022-05-27.xlsx'\n",
      "--------1\n",
      "省妇幼pcos报告-2022-05-27/毛慧敏-激素检测报告-2022-05-27.xlsx\n",
      "--------2\n",
      "╩í╕╛╙╫pcos▒¿╕µ-2022-05-27/╒╘╦╪╞╜-╝ñ╦╪╝∞▓Γ▒¿╕µ-2022-05-27.pdf\n",
      "b'\\xe2\\x95\\xa9\\xc3\\xad\\xe2\\x95\\x95\\xe2\\x95\\x9b\\xe2\\x95\\x99\\xe2\\x95\\xabpcos\\xe2\\x96\\x92\\xc2\\xbf\\xe2\\x95\\x95\\xc2\\xb5-2022-05-27/\\xe2\\x95\\x92\\xe2\\x95\\x98\\xe2\\x95\\xa6\\xe2\\x95\\xaa\\xe2\\x95\\x9e\\xe2\\x95\\x9c-\\xe2\\x95\\x9d\\xc3\\xb1\\xe2\\x95\\xa6\\xe2\\x95\\xaa\\xe2\\x95\\x9d\\xe2\\x88\\x9e\\xe2\\x96\\x93\\xce\\x93\\xe2\\x96\\x92\\xc2\\xbf\\xe2\\x95\\x95\\xc2\\xb5-2022-05-27.pdf'\n",
      "--------1\n",
      "省妇幼pcos报告-2022-05-27/赵素平-激素检测报告-2022-05-27.pdf\n",
      "--------2\n",
      "╩í╕╛╙╫pcos▒¿╕µ-2022-05-27/╒╘╦╪╞╜-╝ñ╦╪╝∞▓Γ▒¿╕µ-2022-05-27.xlsx\n",
      "b'\\xe2\\x95\\xa9\\xc3\\xad\\xe2\\x95\\x95\\xe2\\x95\\x9b\\xe2\\x95\\x99\\xe2\\x95\\xabpcos\\xe2\\x96\\x92\\xc2\\xbf\\xe2\\x95\\x95\\xc2\\xb5-2022-05-27/\\xe2\\x95\\x92\\xe2\\x95\\x98\\xe2\\x95\\xa6\\xe2\\x95\\xaa\\xe2\\x95\\x9e\\xe2\\x95\\x9c-\\xe2\\x95\\x9d\\xc3\\xb1\\xe2\\x95\\xa6\\xe2\\x95\\xaa\\xe2\\x95\\x9d\\xe2\\x88\\x9e\\xe2\\x96\\x93\\xce\\x93\\xe2\\x96\\x92\\xc2\\xbf\\xe2\\x95\\x95\\xc2\\xb5-2022-05-27.xlsx'\n",
      "--------1\n",
      "省妇幼pcos报告-2022-05-27/赵素平-激素检测报告-2022-05-27.xlsx\n",
      "--------2\n"
     ]
    }
   ],
   "source": [
    "\n",
    "\n",
    "import zipfile\n",
    "\n",
    "in_zipfile = u'D:\\PCOS_project\\PCOS_transfer_data\\数据\\workdir1\\省妇幼pcos报告-2022-05-27.zip'\n",
    "\n",
    "# 默认模式r,读\n",
    "azip = zipfile.ZipFile(in_zipfile, 'r')\n",
    "# 返回所有文件夹和文件\n",
    "zip_list = azip.namelist()\n",
    "for zip_file in zip_list:\n",
    "    print(zip_file)\n",
    "    print(zip_file.encode('utf-8'))\n",
    "    try:\n",
    "        zip_file = zip_file.encode('cp437').decode('gbk')\n",
    "    except:\n",
    "        zip_file = zip_file.encode('utf-8').decode('utf-8')\n",
    "    print('--------1')\n",
    "    print(zip_file)\n",
    "    print('--------2')\n",
    "\n",
    "    # 一句话，就是转换成unicode，压缩前是什么编码，使用什么编码encode再decode回gbk、utf-8"
   ]
  },
  {
   "cell_type": "code",
   "execution_count": 91,
   "metadata": {},
   "outputs": [],
   "source": [
    "\n",
    "def decode_filename(filename):\n",
    "    try:\n",
    "        filename =filename.encode('cp437').decode('gbk')\n",
    "    except:\n",
    "        filename = filename.encode('utf-8').decode('utf-8')\n",
    "    return filename"
   ]
  },
  {
   "cell_type": "code",
   "execution_count": 94,
   "metadata": {},
   "outputs": [],
   "source": [
    "# zip_list"
   ]
  },
  {
   "cell_type": "code",
   "execution_count": 121,
   "metadata": {},
   "outputs": [],
   "source": [
    "in_zipfile = u'D:\\PCOS_project\\PCOS_transfer_data\\数据\\workdir1\\省妇幼pcos报告-2022-05-27.zip'\n",
    "out_dir = 'D:/PCOS_project/PCOS_transfer_data/数据/workdir1/test_extract/测试'\n",
    "def unzip_file(in_zipfile,out_dir):\n",
    "    import datetime\n",
    "    date_file = datetime.datetime.now().strftime(\"%Y_%m_%d\") \n",
    "    out_dir = os.path.join(out_dir,date_file)\n",
    "    f = zipfile.ZipFile(in_zipfile)\n",
    "    for file_one in f.filelist:\n",
    "        # f.extract(file,out_dir)\n",
    "        file_one.filename = decode_filename(file_one.filename)\n",
    "        f.extract(file_one,out_dir)\n",
    "unzip_file(in_zipfile,out_dir)"
   ]
  },
  {
   "cell_type": "code",
   "execution_count": 96,
   "metadata": {},
   "outputs": [
    {
     "data": {
      "text/plain": [
       "[<ZipInfo filename='╩í╕╛╙╫pcos▒¿╕µ-2022-05-27/' external_attr=0x10>,\n",
       " <ZipInfo filename='╩í╕╛╙╫pcos▒¿╕µ-2022-05-27/├½╗█├⌠-╝ñ╦╪╝∞▓Γ▒¿╕µ-2022-05-27.pdf' compress_type=deflate external_attr=0x20 file_size=165753 compress_size=153350>,\n",
       " <ZipInfo filename='╩í╕╛╙╫pcos▒¿╕µ-2022-05-27/├½╗█├⌠-╝ñ╦╪╝∞▓Γ▒¿╕µ-2022-05-27.xlsx' compress_type=deflate external_attr=0x20 file_size=46766 compress_size=42879>,\n",
       " <ZipInfo filename='╩í╕╛╙╫pcos▒¿╕µ-2022-05-27/╒╘╦╪╞╜-╝ñ╦╪╝∞▓Γ▒¿╕µ-2022-05-27.pdf' compress_type=deflate external_attr=0x20 file_size=164877 compress_size=152555>,\n",
       " <ZipInfo filename='╩í╕╛╙╫pcos▒¿╕µ-2022-05-27/╒╘╦╪╞╜-╝ñ╦╪╝∞▓Γ▒¿╕µ-2022-05-27.xlsx' compress_type=deflate external_attr=0x20 file_size=46786 compress_size=42935>]"
      ]
     },
     "execution_count": 96,
     "metadata": {},
     "output_type": "execute_result"
    }
   ],
   "source": [
    "# f.filelist"
   ]
  },
  {
   "cell_type": "code",
   "execution_count": 105,
   "metadata": {},
   "outputs": [
    {
     "name": "stdout",
     "output_type": "stream",
     "text": [
      "╩í╕╛╙╫pcos▒¿╕µ-2022-05-27/\n",
      "╩í╕╛╙╫pcos▒¿╕µ-2022-05-27/├½╗█├⌠-╝ñ╦╪╝∞▓Γ▒¿╕µ-2022-05-27.pdf\n",
      "╩í╕╛╙╫pcos▒¿╕µ-2022-05-27/├½╗█├⌠-╝ñ╦╪╝∞▓Γ▒¿╕µ-2022-05-27.xlsx\n",
      "╩í╕╛╙╫pcos▒¿╕µ-2022-05-27/╒╘╦╪╞╜-╝ñ╦╪╝∞▓Γ▒¿╕µ-2022-05-27.pdf\n",
      "╩í╕╛╙╫pcos▒¿╕µ-2022-05-27/╒╘╦╪╞╜-╝ñ╦╪╝∞▓Γ▒¿╕µ-2022-05-27.xlsx\n"
     ]
    }
   ],
   "source": [
    "for file in f.filelist:\n",
    "    print(file.filename)"
   ]
  },
  {
   "cell_type": "code",
   "execution_count": 100,
   "metadata": {},
   "outputs": [
    {
     "data": {
      "text/plain": [
       "[<ZipInfo filename='╩í╕╛╙╫pcos▒¿╕µ-2022-05-27/' external_attr=0x10>,\n",
       " <ZipInfo filename='╩í╕╛╙╫pcos▒¿╕µ-2022-05-27/├½╗█├⌠-╝ñ╦╪╝∞▓Γ▒¿╕µ-2022-05-27.pdf' compress_type=deflate external_attr=0x20 file_size=165753 compress_size=153350>,\n",
       " <ZipInfo filename='╩í╕╛╙╫pcos▒¿╕µ-2022-05-27/├½╗█├⌠-╝ñ╦╪╝∞▓Γ▒¿╕µ-2022-05-27.xlsx' compress_type=deflate external_attr=0x20 file_size=46766 compress_size=42879>,\n",
       " <ZipInfo filename='╩í╕╛╙╫pcos▒¿╕µ-2022-05-27/╒╘╦╪╞╜-╝ñ╦╪╝∞▓Γ▒¿╕µ-2022-05-27.pdf' compress_type=deflate external_attr=0x20 file_size=164877 compress_size=152555>,\n",
       " <ZipInfo filename='╩í╕╛╙╫pcos▒¿╕µ-2022-05-27/╒╘╦╪╞╜-╝ñ╦╪╝∞▓Γ▒¿╕µ-2022-05-27.xlsx' compress_type=deflate external_attr=0x20 file_size=46786 compress_size=42935>]"
      ]
     },
     "execution_count": 100,
     "metadata": {},
     "output_type": "execute_result"
    }
   ],
   "source": [
    "f.filelist"
   ]
  },
  {
   "cell_type": "code",
   "execution_count": 109,
   "metadata": {},
   "outputs": [],
   "source": [
    "import datetime"
   ]
  },
  {
   "cell_type": "code",
   "execution_count": 114,
   "metadata": {},
   "outputs": [
    {
     "data": {
      "text/plain": [
       "'2022-05-27 17:54:08.335088'"
      ]
     },
     "execution_count": 114,
     "metadata": {},
     "output_type": "execute_result"
    }
   ],
   "source": [
    "str(datetime.datetime.now())"
   ]
  },
  {
   "cell_type": "code",
   "execution_count": 117,
   "metadata": {},
   "outputs": [],
   "source": [
    "date_file = datetime.datetime.now().strftime(\"%Y_%m_%d\")"
   ]
  },
  {
   "cell_type": "code",
   "execution_count": 118,
   "metadata": {},
   "outputs": [],
   "source": [
    "out_dir = os.path.join(out_dir,date_file)\n"
   ]
  },
  {
   "cell_type": "code",
   "execution_count": 119,
   "metadata": {},
   "outputs": [
    {
     "data": {
      "text/plain": [
       "'D:/PCOS_project/PCOS_transfer_data/数据/workdir1/test_extract/测试\\\\2022_05_27'"
      ]
     },
     "execution_count": 119,
     "metadata": {},
     "output_type": "execute_result"
    }
   ],
   "source": [
    "out_dir"
   ]
  },
  {
   "cell_type": "code",
   "execution_count": null,
   "metadata": {},
   "outputs": [],
   "source": []
  }
 ],
 "metadata": {
  "kernelspec": {
   "display_name": "Python 3 (ipykernel)",
   "language": "python",
   "name": "python3"
  },
  "language_info": {
   "codemirror_mode": {
    "name": "ipython",
    "version": 3
   },
   "file_extension": ".py",
   "mimetype": "text/x-python",
   "name": "python",
   "nbconvert_exporter": "python",
   "pygments_lexer": "ipython3",
   "version": "3.9.7"
  }
 },
 "nbformat": 4,
 "nbformat_minor": 4
}
