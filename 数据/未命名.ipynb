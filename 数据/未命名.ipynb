{
 "cells": [
  {
   "cell_type": "code",
   "execution_count": 2,
   "id": "5848cbe8-975a-4db2-a01c-6747701a76c0",
   "metadata": {},
   "outputs": [],
   "source": [
    "# 对每个检测项目的xml的result_info设置值\n",
    "def set_result_info(dct):\n",
    "    # result_info = f'''---------{result_name}--------{result}===={result_unit}-------{result_reference}\\n'''\n",
    "    result_info = f'''    \n",
    "    <result_info>\n",
    "        <result_seq/>\n",
    "        <ext_combine_code>{ext_combine_code}</ext_combine_code>\n",
    "        <ext_combine_name>{ext_combine_name}</ext_combine_name>\n",
    "        <ext_item_code>{ext_item_code}</ext_item_code>\n",
    "        <ext_item_name>{ext_item_name}</ext_item_name>\n",
    "        <result>        <![CDATA[{result}]]]]>>        <![CDATA[</result>\n",
    "        <result_unit>        <![CDATA[{result_unit}]]]]>>   <![CDATA[</result_unit>\n",
    "        <result_flag/>\n",
    "        <result_reference>    <![CDATA[{result_reference}]]]]>>       <![CDATA[</result_reference>\n",
    "        <result_date/>\n",
    "        <result_intstrmt_name/>\n",
    "        <result_test_method/>\n",
    "        <result_suggestion/>\n",
    "        <result_remark/>\n",
    "        <lis_combine_code>{lis_combine_code}</lis_combine_code>\n",
    "        <lis_combine_name>{lis_combine_name}</lis_combine_name>\n",
    "        <lis_item_code>{lis_item_code}</lis_item_code>\n",
    "        <lis_item_name>{lis_item_name}</lis_item_name>    \n",
    "    </result_info>\n",
    "   '''\n",
    "    return result_info"
   ]
  },
  {
   "cell_type": "code",
   "execution_count": 3,
   "id": "ca8b09a2-27e0-415b-bca7-6843e8d9fa76",
   "metadata": {},
   "outputs": [],
   "source": [
    "# 对每个检测项目的xml的result_info设置值\n",
    "def set_result_info(dct):\n",
    "    # result_info = f'''---------dct.get('result_name'--------dct.get('result'====dct.get('result_unit'-------dct.get('result_reference'\\n'''\n",
    "    result_info = f'''    \n",
    "    <result_info>\n",
    "        <result_seq/>\n",
    "        <ext_combine_code>dct.get('ext_combine_code'</ext_combine_code>\n",
    "        <ext_combine_name>dct.get('ext_combine_name'</ext_combine_name>\n",
    "        <ext_item_code>dct.get('ext_item_code'</ext_item_code>\n",
    "        <ext_item_name>dct.get('ext_item_name'</ext_item_name>\n",
    "        <result>        <![CDATA[dct.get('result']]]]>>        <![CDATA[</result>\n",
    "        <result_unit>        <![CDATA[dct.get('result_unit']]]]>>   <![CDATA[</result_unit>\n",
    "        <result_flag/>\n",
    "        <result_reference>    <![CDATA[dct.get('result_reference']]]]>>       <![CDATA[</result_reference>\n",
    "        <result_date/>\n",
    "        <result_intstrmt_name/>\n",
    "        <result_test_method/>\n",
    "        <result_suggestion/>\n",
    "        <result_remark/>\n",
    "        <lis_combine_code>dct.get('lis_combine_code'</lis_combine_code>\n",
    "        <lis_combine_name>dct.get('lis_combine_name'</lis_combine_name>\n",
    "        <lis_item_code>dct.get('lis_item_code'</lis_item_code>\n",
    "        <lis_item_name>dct.get('lis_item_name'</lis_item_name>    \n",
    "    </result_info>\n",
    "   '''\n",
    "    return result_info"
   ]
  },
  {
   "cell_type": "code",
   "execution_count": null,
   "id": "6e983065-1ca6-40d9-92ea-24541be8421a",
   "metadata": {},
   "outputs": [],
   "source": []
  },
  {
   "cell_type": "code",
   "execution_count": 5,
   "id": "02ce12e0-c501-4627-a650-5d9fa226a7ef",
   "metadata": {},
   "outputs": [],
   "source": [
    "# 对每个检测项目的xml的result_info设置值\n",
    "def set_result_info(dct):\n",
    "    # result_info = f'''---------{dct.get('result_name')}--------{dct.get('result')}===={dct.get('result_unit')}-------{dct.get('result_reference')}\\n'''\n",
    "    result_info = f'''    \n",
    "    <result_info>\n",
    "        <result_seq/>\n",
    "        <ext_combine_code>{dct.get('ext_combine_code')}</ext_combine_code>\n",
    "        <ext_combine_name>{dct.get('ext_combine_name')}</ext_combine_name>\n",
    "        <ext_item_code>{dct.get('ext_item_code')}</ext_item_code>\n",
    "        <ext_item_name>{dct.get('ext_item_name')}</ext_item_name>\n",
    "        <result>        <![CDATA[{dct.get('result')}]]]]>>        <![CDATA[</result>\n",
    "        <result_unit>        <![CDATA[{dct.get('result_unit')}]]]]>>   <![CDATA[</result_unit>\n",
    "        <result_flag/>\n",
    "        <result_reference>    <![CDATA[{dct.get('result_reference')}]]]]>>       <![CDATA[</result_reference>\n",
    "        <result_date/>\n",
    "        <result_intstrmt_name/>\n",
    "        <result_test_method/>\n",
    "        <result_suggestion/>\n",
    "        <result_remark/>\n",
    "        <lis_combine_code>{dct.get('lis_combine_code')}</lis_combine_code>\n",
    "        <lis_combine_name>{dct.get('lis_combine_name')}</lis_combine_name>\n",
    "        <lis_item_code>{dct.get('lis_item_code')}</lis_item_code>\n",
    "        <lis_item_name>{dct.get('lis_item_name')}</lis_item_name>    \n",
    "    </result_info>\n",
    "   '''\n",
    "    return result_info"
   ]
  },
  {
   "cell_type": "code",
   "execution_count": 8,
   "id": "914a0428-3bcc-42b5-886f-cb915f306a10",
   "metadata": {},
   "outputs": [],
   "source": [
    "lis_combine_code = ['32025']*5 + ['32024']"
   ]
  },
  {
   "cell_type": "code",
   "execution_count": 9,
   "id": "3b47569b-d1cf-4d65-8377-874bcf83ecea",
   "metadata": {},
   "outputs": [
    {
     "data": {
      "text/plain": [
       "['32025', '32025', '32025', '32025', '32025', '32024']"
      ]
     },
     "execution_count": 9,
     "metadata": {},
     "output_type": "execute_result"
    }
   ],
   "source": [
    "lis_combine_code"
   ]
  },
  {
   "cell_type": "code",
   "execution_count": null,
   "id": "16c97145-3f03-47d1-ac9f-37ca3ed45214",
   "metadata": {},
   "outputs": [],
   "source": []
  }
 ],
 "metadata": {
  "kernelspec": {
   "display_name": "Python 3 (ipykernel)",
   "language": "python",
   "name": "python3"
  },
  "language_info": {
   "codemirror_mode": {
    "name": "ipython",
    "version": 3
   },
   "file_extension": ".py",
   "mimetype": "text/x-python",
   "name": "python",
   "nbconvert_exporter": "python",
   "pygments_lexer": "ipython3",
   "version": "3.9.7"
  }
 },
 "nbformat": 4,
 "nbformat_minor": 5
}
