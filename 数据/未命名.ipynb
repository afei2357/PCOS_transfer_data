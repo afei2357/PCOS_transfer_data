{
 "cells": [
  {
   "cell_type": "code",
   "execution_count": 8,
   "id": "2d8cfa1c-127b-42eb-8c28-f1d828612edc",
   "metadata": {},
   "outputs": [],
   "source": [
    "from openpyxl import load_workbook\n",
    "import requests\n",
    "from xml.etree import ElementTree as ET\n",
    "# import HTMLParser\n",
    "from html.parser import HTMLParser\n",
    "# 运行之前记得关闭DevSidecar或者别的代理工具"
   ]
  },
  {
   "cell_type": "code",
   "execution_count": 9,
   "id": "23f8efb4-0b4b-4d69-869a-6690ed83d4b1",
   "metadata": {},
   "outputs": [],
   "source": [
    "from openpyxl import load_workbook\n",
    "import requests,base64\n",
    "from xml.etree import ElementTree\n",
    "# 运行之前记得关闭DevSidecar或者别的代理工具"
   ]
  },
  {
   "cell_type": "code",
   "execution_count": 10,
   "id": "04c8a60b-fafd-46ec-a732-2ea63b2e6f60",
   "metadata": {},
   "outputs": [],
   "source": [
    "# 从1、GetLisRequest 接口（获取标本信息）\n",
    "def get_patient_info(hospSampleID):\n",
    "    data = f'''<?xml version=\"1.0\" encoding=\"utf-8\"?>\n",
    "            <soap12:Envelope xmlns:xsi=\"http://www.w3.org/2001/XMLSchema-instance\" xmlns:xsd=\"http://www.w3.org/2001/XMLSchema\" xmlns:soap12=\"http://www.w3.org/2003/05/soap-envelope\">\n",
    "            <soap12:Body><GetLisRequest xmlns=\"http://tempuri.org/\"><hospSampleID>{hospSampleID}</hospSampleID>\n",
    "            </GetLisRequest></soap12:Body></soap12:Envelope>'''\n",
    "    encode_data = data.encode('utf-8')\n",
    "    # print(data)\n",
    "    headers = {\"Host\": \"10.10.11.196\",\n",
    "            \"Content-Type\": \"application/soap+xml; charset=UTF-8\",\n",
    "            \"Content-Length\": str(len(encode_data)),\n",
    "            \"SOAPAction\": \"http://tempuri.org/GetLisRequest\"}\n",
    "    patient_info = requests.post('http://58.62.17.237:4431/ExtReportService', data=encode_data ,headers=headers)\n",
    "\n",
    "    print('patient_info.header----')\n",
    "    print(patient_info.headers)\n",
    "    print('patient_info.text----') \n",
    "    return patient_info.text\n"
   ]
  },
  {
   "cell_type": "code",
   "execution_count": null,
   "id": "87ada6c3-40e4-418d-bf02-fc6274266f66",
   "metadata": {},
   "outputs": [],
   "source": []
  },
  {
   "cell_type": "code",
   "execution_count": 11,
   "id": "60ad94d8-4095-47e7-8b63-850b46d2b96c",
   "metadata": {},
   "outputs": [],
   "source": [
    " class Parse(HTMLParser):\n",
    "    def __init__(self):\n",
    "    #Since Python 3, we need to call the __init__() function \n",
    "    #of the parent class\n",
    "        super().__init__()\n",
    "        self.reset()\n",
    "        self.data = None\n",
    " \n",
    "    def handle_data(self, data):\n",
    "        # print(\"Here's the data: \", data)\n",
    "        print('HTMLParser parsering data ')\n",
    "        self.data = data\n",
    "\n",
    " "
   ]
  },
  {
   "cell_type": "code",
   "execution_count": 19,
   "id": "aa2ed76c-7d30-4a4a-8035-2a061f112ca2",
   "metadata": {},
   "outputs": [
    {
     "name": "stdout",
     "output_type": "stream",
     "text": [
      "patient_info.header----\n",
      "{'Server': 'nginx/1.19.2', 'Date': 'Wed, 25 May 2022 07:48:56 GMT', 'Content-Type': 'text/html; charset=utf-8', 'Content-Length': '2201', 'Connection': 'keep-alive'}\n",
      "patient_info.text----\n"
     ]
    },
    {
     "data": {
      "text/plain": [
       "'<?xml version=\"1.0\" encoding=\"utf-8\"?><soap:Envelope xmlns:soap=\"http://www.w3.org/2003/05/soap-envelope\" xmlns:xsi=\"http://www.w3.org/2001/XMLSchema-instance\" xmlns:xsd=\"http://www.w3.org/2001/XMLSchema\"><soap:Body><GetLisRequestResponse xmlns=\"http://tempuri.org/\"><GetLisRequestResult>&lt;?xml version=\"1.0\" encoding=\"utf-8\"?&gt;&lt;Data&gt;&lt;Data_Row&gt;&lt;lis_Barcode&gt;43201252&lt;/lis_Barcode&gt;&lt;sample_no&gt;2&lt;/sample_no&gt;&lt;pat_no&gt;9304405028&lt;/pat_no&gt;&lt;pat_id&gt;9304405028&lt;/pat_id&gt;&lt;pat_name&gt;雄激素5项测试&lt;/pat_name&gt;&lt;pat_bedNo&gt;&lt;/pat_bedNo&gt;&lt;spouse_info&gt;&lt;/spouse_info&gt;&lt;blood_time&gt;2022-05-25 15:10:46&lt;/blood_time&gt;&lt;pat_sex&gt;0&lt;/pat_sex&gt;&lt;pat_birthday&gt;&lt;/pat_birthday&gt;&lt;pat_age/&gt;&lt;pat_ageunit/&gt;&lt;pat_tel&gt;&lt;/pat_tel&gt;&lt;dept_name&gt;测试科室&lt;/dept_name&gt;&lt;doctor_name&gt;&lt;/doctor_name&gt;&lt;doctor_tel&gt;&lt;/doctor_tel&gt;&lt;clinical_diag&gt;&lt;/clinical_diag&gt;&lt;samp_name&gt;血清&lt;/samp_name&gt;&lt;pat_Remark&gt;&lt;/pat_Remark&gt;&lt;Pat_From&gt;住院&lt;/Pat_From&gt;&lt;Pat_ID&gt;10494202205252&lt;/Pat_ID&gt;&lt;pat_CardNo&gt;&lt;/pat_CardNo&gt;&lt;LisItems&gt;&lt;lis_item_code&gt;32025&lt;/lis_item_code&gt;&lt;lis_item_name&gt;雄激素5项(爱湾)&lt;/lis_item_name&gt;&lt;SubItems&gt;&lt;lis_subitem_code&gt;32378&lt;/lis_subitem_code&gt;&lt;lis_subitem_name&gt;睾酮&lt;/lis_subitem_name&gt;&lt;/SubItems&gt;&lt;SubItems&gt;&lt;lis_subitem_code&gt;32379&lt;/lis_subitem_code&gt;&lt;lis_subitem_name&gt;雄烯二酮&lt;/lis_subitem_name&gt;&lt;/SubItems&gt;&lt;SubItems&gt;&lt;lis_subitem_code&gt;32380&lt;/lis_subitem_code&gt;&lt;lis_subitem_name&gt;硫酸脱氢表雄酮&lt;/lis_subitem_name&gt;&lt;/SubItems&gt;&lt;SubItems&gt;&lt;lis_subitem_code&gt;32381&lt;/lis_subitem_code&gt;&lt;lis_subitem_name&gt;脱氢表雄酮&lt;/lis_subitem_name&gt;&lt;/SubItems&gt;&lt;SubItems&gt;&lt;lis_subitem_code&gt;32383&lt;/lis_subitem_code&gt;&lt;lis_subitem_name&gt;双氢睾酮&lt;/lis_subitem_name&gt;&lt;/SubItems&gt;&lt;/LisItems&gt;&lt;/Data_Row&gt;&lt;/Data&gt;</GetLisRequestResult></GetLisRequestResponse></soap:Body></soap:Envelope>'"
      ]
     },
     "execution_count": 19,
     "metadata": {},
     "output_type": "execute_result"
    }
   ],
   "source": [
    "# hospSampleID = '2343127051'\n",
    "hospSampleID = '43201252'\n",
    "\n",
    "\n",
    "patient_info = get_patient_info(hospSampleID)\n",
    "patient_info"
   ]
  },
  {
   "cell_type": "code",
   "execution_count": 20,
   "id": "bc0d56a5-e47d-489d-9043-67c6d716f620",
   "metadata": {},
   "outputs": [
    {
     "name": "stdout",
     "output_type": "stream",
     "text": [
      "HTMLParser parsering data \n"
     ]
    }
   ],
   "source": [
    "parser = Parse()\n",
    "parser.feed(patient_info)\n",
    "data = parser.data\n",
    "root = ET.fromstring(data)"
   ]
  },
  {
   "cell_type": "code",
   "execution_count": 21,
   "id": "867cdec7-1e96-4e4b-bb4c-76dc3fa7c222",
   "metadata": {},
   "outputs": [
    {
     "name": "stdout",
     "output_type": "stream",
     "text": [
      "<?xml version=\"1.0\" encoding=\"utf-8\"?><Data><Data_Row><lis_Barcode>43201252</lis_Barcode><sample_no>2</sample_no><pat_no>9304405028</pat_no><pat_id>9304405028</pat_id><pat_name>雄激素5项测试</pat_name><pat_bedNo></pat_bedNo><spouse_info></spouse_info><blood_time>2022-05-25 15:10:46</blood_time><pat_sex>0</pat_sex><pat_birthday></pat_birthday><pat_age/><pat_ageunit/><pat_tel></pat_tel><dept_name>测试科室</dept_name><doctor_name></doctor_name><doctor_tel></doctor_tel><clinical_diag></clinical_diag><samp_name>血清</samp_name><pat_Remark></pat_Remark><Pat_From>住院</Pat_From><Pat_ID>10494202205252</Pat_ID><pat_CardNo></pat_CardNo><LisItems><lis_item_code>32025</lis_item_code><lis_item_name>雄激素5项(爱湾)</lis_item_name><SubItems><lis_subitem_code>32378</lis_subitem_code><lis_subitem_name>睾酮</lis_subitem_name></SubItems><SubItems><lis_subitem_code>32379</lis_subitem_code><lis_subitem_name>雄烯二酮</lis_subitem_name></SubItems><SubItems><lis_subitem_code>32380</lis_subitem_code><lis_subitem_name>硫酸脱氢表雄酮</lis_subitem_name></SubItems><SubItems><lis_subitem_code>32381</lis_subitem_code><lis_subitem_name>脱氢表雄酮</lis_subitem_name></SubItems><SubItems><lis_subitem_code>32383</lis_subitem_code><lis_subitem_name>双氢睾酮</lis_subitem_name></SubItems></LisItems></Data_Row></Data>\n"
     ]
    }
   ],
   "source": [
    "\n",
    "print(data)"
   ]
  },
  {
   "cell_type": "code",
   "execution_count": 18,
   "id": "dbb11c3e-9a73-4437-bc2b-e090a44e79ef",
   "metadata": {},
   "outputs": [
    {
     "name": "stdout",
     "output_type": "stream",
     "text": [
      "HTMLParser parsering data \n"
     ]
    },
    {
     "data": {
      "text/plain": [
       "'生殖健康与不孕症科门诊(天河)'"
      ]
     },
     "execution_count": 18,
     "metadata": {},
     "output_type": "execute_result"
    }
   ],
   "source": [
    "get_tag('dept_name',patient_info)"
   ]
  },
  {
   "cell_type": "code",
   "execution_count": null,
   "id": "2b849d5b-3b63-49c2-903c-040a439a990d",
   "metadata": {},
   "outputs": [],
   "source": [
    "def get_LisRequest_data():\n",
    "    def get_tag_raw(tag_name):\n",
    "    return root[0].find(tag_name).text\n",
    "\n",
    "    def get_tag_raw(tag_name):\n",
    "    return root[0].find(tag_name).text\n",
    "    dct = {}\n",
    "    parser = Parse()\n",
    "    parser.feed(patient_info)\n",
    "    data = parser.data\n",
    "    root = ET.fromstring(data)\n",
    "    \n",
    "    dct['lis_Barcode'] = get_tag_raw('lis_Barcode')\n",
    "    dct['pat_name'] = get_tag_raw('pat_name')\n",
    "    dct['dept_name'] = get_tag_raw('dept_name')\n",
    "    dct['lis_combine_code'] = get_tag_raw('')\n",
    "    dct[''] = get_tag_raw('lis_item_code')\n",
    "    dct[''] = get_tag_raw('')\n",
    "    dct[''] = get_tag_raw('')\n",
    "    dct[''] = get_tag_raw('')\n",
    "    dct[''] = get_tag_raw('')\n",
    "    \n",
    "    \n"
   ]
  },
  {
   "cell_type": "code",
   "execution_count": 24,
   "id": "541c01f5-187f-4e07-9b21-15794fc6f696",
   "metadata": {},
   "outputs": [
    {
     "data": {
      "text/plain": [
       "<Element 'lis_item_code' at 0x000002B0F967D270>"
      ]
     },
     "execution_count": 24,
     "metadata": {},
     "output_type": "execute_result"
    }
   ],
   "source": [
    "lis_combine_code = root[0].find('LisItems').find('lis_item_code')\n",
    "lis_combine_name = root[0].find('LisItems').find('lis_item_name')"
   ]
  },
  {
   "cell_type": "code",
   "execution_count": 29,
   "id": "0a91ca01-dab6-4301-b209-111a94a8bd9c",
   "metadata": {},
   "outputs": [
    {
     "name": "stdout",
     "output_type": "stream",
     "text": [
      "<Element 'lis_item_code' at 0x000002B0F967D270>\n",
      "<Element 'lis_item_name' at 0x000002B0F967D2C0>\n",
      "<Element 'SubItems' at 0x000002B0F967D310>\n",
      "<Element 'SubItems' at 0x000002B0F967D4A0>\n",
      "<Element 'SubItems' at 0x000002B0F967D590>\n",
      "<Element 'SubItems' at 0x000002B0F967D680>\n",
      "<Element 'SubItems' at 0x000002B0F967D770>\n"
     ]
    }
   ],
   "source": [
    "for i in root[0].find('LisItems'):#.find('SubItems'):\n",
    "    print(i)\n"
   ]
  },
  {
   "cell_type": "code",
   "execution_count": 37,
   "id": "85c33327-11b8-4f6c-a55f-251ff8bdc64c",
   "metadata": {},
   "outputs": [
    {
     "data": {
      "text/plain": [
       "[<Element 'SubItems' at 0x000002B0F967D310>,\n",
       " <Element 'SubItems' at 0x000002B0F967D4A0>,\n",
       " <Element 'SubItems' at 0x000002B0F967D590>,\n",
       " <Element 'SubItems' at 0x000002B0F967D680>,\n",
       " <Element 'SubItems' at 0x000002B0F967D770>]"
      ]
     },
     "execution_count": 37,
     "metadata": {},
     "output_type": "execute_result"
    }
   ],
   "source": [
    "all_sub_items = root[0].find('LisItems').findall('SubItems') #.findall('lis_subitem_code')\n",
    "all_sub_items"
   ]
  },
  {
   "cell_type": "code",
   "execution_count": 43,
   "id": "d35b9b2f-9c38-4127-b9f3-c6ea39bf88a0",
   "metadata": {},
   "outputs": [
    {
     "name": "stdout",
     "output_type": "stream",
     "text": [
      "32378\n",
      "睾酮\n",
      "32379\n",
      "雄烯二酮\n",
      "32380\n",
      "硫酸脱氢表雄酮\n",
      "32381\n",
      "脱氢表雄酮\n",
      "32383\n",
      "双氢睾酮\n"
     ]
    }
   ],
   "source": [
    "for sub in all_sub_items:\n",
    "    lis_subitem = sub.find('lis_subitem_code')\n",
    "    lis_subitem_name = sub.find('lis_subitem_name')\n",
    "    \n",
    "    print(lis_subitem.text)\n",
    "    print(lis_subitem_name.text)   "
   ]
  },
  {
   "cell_type": "code",
   "execution_count": 44,
   "id": "9bdf2aa3-490a-4022-9fe5-256e14c8b0f6",
   "metadata": {},
   "outputs": [],
   "source": [
    "s = 'result_reference1111'"
   ]
  },
  {
   "cell_type": "code",
   "execution_count": 46,
   "id": "4d7878c0-833e-4fce-b1b3-d4a5adba63e8",
   "metadata": {},
   "outputs": [
    {
     "data": {
      "text/plain": [
       "'resul'"
      ]
     },
     "execution_count": 46,
     "metadata": {},
     "output_type": "execute_result"
    }
   ],
   "source": [
    "s[0:5]"
   ]
  },
  {
   "cell_type": "code",
   "execution_count": null,
   "id": "15285f85-f5cc-4dbf-b232-e2b537d265b9",
   "metadata": {},
   "outputs": [],
   "source": []
  }
 ],
 "metadata": {
  "kernelspec": {
   "display_name": "Python 3 (ipykernel)",
   "language": "python",
   "name": "python3"
  },
  "language_info": {
   "codemirror_mode": {
    "name": "ipython",
    "version": 3
   },
   "file_extension": ".py",
   "mimetype": "text/x-python",
   "name": "python",
   "nbconvert_exporter": "python",
   "pygments_lexer": "ipython3",
   "version": "3.9.7"
  }
 },
 "nbformat": 4,
 "nbformat_minor": 5
}
