{
 "cells": [
  {
   "cell_type": "code",
   "execution_count": 3,
   "id": "b796068e-7d97-4588-81e4-28343426ca5e",
   "metadata": {},
   "outputs": [],
   "source": [
    "from openpyxl import load_workbook\n",
    "import requests\n",
    "from xml.etree import ElementTree as ET\n",
    "# import HTMLParser\n",
    "from html.parser import HTMLParser\n",
    "# 运行之前记得关闭DevSidecar或者别的代理工具"
   ]
  },
  {
   "cell_type": "code",
   "execution_count": null,
   "id": "cdc349b4-5efd-470e-ae41-ee20489cfb07",
   "metadata": {},
   "outputs": [],
   "source": []
  },
  {
   "cell_type": "code",
   "execution_count": 54,
   "id": "04c8a60b-fafd-46ec-a732-2ea63b2e6f60",
   "metadata": {},
   "outputs": [],
   "source": [
    "# 从1、GetLisRequest 接口（获取标本信息）\n",
    "def get_patient_info(hospSampleID):\n",
    "    data = f'''<?xml version=\"1.0\" encoding=\"utf-8\"?>\n",
    "            <soap12:Envelope xmlns:xsi=\"http://www.w3.org/2001/XMLSchema-instance\" xmlns:xsd=\"http://www.w3.org/2001/XMLSchema\" xmlns:soap12=\"http://www.w3.org/2003/05/soap-envelope\">\n",
    "            <soap12:Body><GetLisRequest xmlns=\"http://tempuri.org/\"><hospSampleID>{hospSampleID}</hospSampleID>\n",
    "            </GetLisRequest></soap12:Body></soap12:Envelope>'''\n",
    "    encode_data = data.encode('utf-8')\n",
    "    # print(data)\n",
    "    headers = {\"Host\": \"10.10.11.196\",\n",
    "            \"Content-Type\": \"application/soap+xml; charset=UTF-8\",\n",
    "            \"Content-Length\": str(len(encode_data)),\n",
    "            \"SOAPAction\": \"http://tempuri.org/GetLisRequest\"}\n",
    "    #patient_info = requests.post(f'http://{Config.MIDDLE_HOST_ADDRESS}/test', data=encode_data,headers=headers)\n",
    "    patient_info = requests.post('http://58.62.17.237:4431/ExtReportService', data=encode_data ,headers=headers)\n",
    "\n",
    "    print('patient_info.header----')\n",
    "    print(patient_info.headers)\n",
    "    print('patient_info.text----') \n",
    "    return patient_info.text\n",
    "\n",
    "# patient_info.encoding('utf-8')\n",
    "# print(patient_info.text)\n"
   ]
  },
  {
   "cell_type": "code",
   "execution_count": 55,
   "id": "52459250-71be-4fe7-b886-9b3716b99e82",
   "metadata": {},
   "outputs": [],
   "source": [
    "# text = '<?xml version=\"1.0\" encoding=\"utf-8\"?><soap:Envelope xmlns:soap=\"http://www.w3.org/2003/05/soap-envelope\" xmlns:xsi=\"http://www.w3.org/2001/XMLSchema-instance\" xmlns:xsd=\"http://www.w3.org/2001/XMLSchema\"><soap:Body><GetLisRequestResponse xmlns=\"http://tempuri.org/\"><GetLisRequestResult>&lt;?xml version=\"1.0\" encoding=\"utf-8\"?&gt;&lt;Data&gt;&lt;Data_Row&gt;&lt;lis_Barcode&gt;2343127051&lt;/lis_Barcode&gt;&lt;sample_no&gt;&lt;/sample_no&gt;&lt;pat_no&gt;2001909006&lt;/pat_no&gt;&lt;pat_id&gt;2001909006&lt;/pat_id&gt;&lt;pat_name&gt;郝海萍&lt;/pat_name&gt;&lt;pat_bedNo&gt;&lt;/pat_bedNo&gt;&lt;spouse_info&gt;&lt;/spouse_info&gt;&lt;blood_time&gt;2022-05-18 08:45:38&lt;/blood_time&gt;&lt;pat_sex&gt;0&lt;/pat_sex&gt;&lt;pat_birthday&gt;1999-07-05 00:00:00&lt;/pat_birthday&gt;&lt;pat_age&gt;22&lt;/pat_age&gt;&lt;pat_ageunit&gt;0&lt;/pat_ageunit&gt;&lt;pat_tel&gt;13635831019&lt;/pat_tel&gt;&lt;dept_name&gt;生殖健康与不孕症科门诊(天河)&lt;/dept_name&gt;&lt;doctor_name&gt;王芳&lt;/doctor_name&gt;&lt;doctor_tel&gt;&lt;/doctor_tel&gt;&lt;clinical_diag&gt;[西]不良孕产个人史;[西]月经不规则&lt;/clinical_diag&gt;&lt;samp_name&gt;血清&lt;/samp_name&gt;&lt;pat_Remark&gt;&lt;/pat_Remark&gt;&lt;Pat_From&gt;门诊&lt;/Pat_From&gt;&lt;Pat_ID&gt;&lt;/Pat_ID&gt;&lt;pat_CardNo&gt;&lt;/pat_CardNo&gt;&lt;LisItems&gt;&lt;lis_item_code&gt;32025&lt;/lis_item_code&gt;&lt;lis_item_name&gt;雄激素5项(爱湾)&lt;/lis_item_name&gt;&lt;SubItems&gt;&lt;lis_subitem_code&gt;32344&lt;/lis_subitem_code&gt;&lt;lis_subitem_name&gt;外送项目&lt;/lis_subitem_name&gt;&lt;/SubItems&gt;&lt;/LisItems&gt;&lt;/Data_Row&gt;&lt;/Data&gt;</GetLisRequestResult></GetLisRequestResponse></soap:Body></soap:Envelope>'"
   ]
  },
  {
   "cell_type": "code",
   "execution_count": 71,
   "id": "30f7eb4a-966c-473b-9e36-973e356682eb",
   "metadata": {},
   "outputs": [
    {
     "name": "stdout",
     "output_type": "stream",
     "text": [
      "patient_info.header----\n",
      "{'Server': 'nginx/1.19.2', 'Date': 'Wed, 25 May 2022 09:30:20 GMT', 'Content-Type': 'text/html; charset=utf-8', 'Content-Length': '1595', 'Connection': 'keep-alive'}\n",
      "patient_info.text----\n"
     ]
    },
    {
     "data": {
      "text/plain": [
       "'<?xml version=\"1.0\" encoding=\"utf-8\"?><soap:Envelope xmlns:soap=\"http://www.w3.org/2003/05/soap-envelope\" xmlns:xsi=\"http://www.w3.org/2001/XMLSchema-instance\" xmlns:xsd=\"http://www.w3.org/2001/XMLSchema\"><soap:Body><GetLisRequestResponse xmlns=\"http://tempuri.org/\"><GetLisRequestResult>&lt;?xml version=\"1.0\" encoding=\"utf-8\"?&gt;&lt;Data&gt;&lt;Data_Row&gt;&lt;lis_Barcode&gt;43201258&lt;/lis_Barcode&gt;&lt;sample_no&gt;3&lt;/sample_no&gt;&lt;pat_no&gt;6583466836&lt;/pat_no&gt;&lt;pat_id&gt;6583466836&lt;/pat_id&gt;&lt;pat_name&gt;17-测试&lt;/pat_name&gt;&lt;pat_bedNo&gt;&lt;/pat_bedNo&gt;&lt;spouse_info&gt;&lt;/spouse_info&gt;&lt;blood_time&gt;2022-05-25 17:27:02&lt;/blood_time&gt;&lt;pat_sex&gt;0&lt;/pat_sex&gt;&lt;pat_birthday&gt;&lt;/pat_birthday&gt;&lt;pat_age/&gt;&lt;pat_ageunit/&gt;&lt;pat_tel&gt;&lt;/pat_tel&gt;&lt;dept_name&gt;测试科室&lt;/dept_name&gt;&lt;doctor_name&gt;&lt;/doctor_name&gt;&lt;doctor_tel&gt;&lt;/doctor_tel&gt;&lt;clinical_diag&gt;&lt;/clinical_diag&gt;&lt;samp_name&gt;全血&lt;/samp_name&gt;&lt;pat_Remark&gt;&lt;/pat_Remark&gt;&lt;Pat_From&gt;住院&lt;/Pat_From&gt;&lt;Pat_ID&gt;10494202205253&lt;/Pat_ID&gt;&lt;pat_CardNo&gt;&lt;/pat_CardNo&gt;&lt;LisItems&gt;&lt;lis_item_code&gt;32024&lt;/lis_item_code&gt;&lt;lis_item_name&gt;17α羟孕酮(爱湾)&lt;/lis_item_name&gt;&lt;SubItems&gt;&lt;lis_subitem_code&gt;32382&lt;/lis_subitem_code&gt;&lt;lis_subitem_name&gt;17α-羟孕酮&lt;/lis_subitem_name&gt;&lt;/SubItems&gt;&lt;/LisItems&gt;&lt;/Data_Row&gt;&lt;/Data&gt;</GetLisRequestResult></GetLisRequestResponse></soap:Body></soap:Envelope>'"
      ]
     },
     "execution_count": 71,
     "metadata": {},
     "output_type": "execute_result"
    }
   ],
   "source": [
    "# hospSampleID = '2343127051'\n",
    "hospSampleID = '43201258'\n",
    "# hospSampleID = '43201252'\n",
    "\n",
    "\n",
    "\n",
    "patient_info = get_patient_info(hospSampleID)\n",
    "patient_info"
   ]
  },
  {
   "cell_type": "code",
   "execution_count": 72,
   "id": "9e106ffc-85a5-4758-b647-d42382069e6b",
   "metadata": {},
   "outputs": [],
   "source": [
    "from html.parser import HTMLParser\n",
    " \n",
    "class Parse(HTMLParser):\n",
    "    def __init__(self):\n",
    "    #Since Python 3, we need to call the __init__() function \n",
    "    #of the parent class\n",
    "        super().__init__()\n",
    "        self.reset()\n",
    "        self.data = None\n",
    " \n",
    "    #Defining what the methods should output when called by HTMLParser.\n",
    "    # def handle_starttag(self, tag, attrs):\n",
    "        # print(\"Start tag: \", tag)\n",
    "        # for a in attrs:\n",
    "            # print(\"Attributes of the tag: \", a)\n",
    " \n",
    "    def handle_data(self, data):\n",
    "        # print(\"Here's the data: \", data)\n",
    "        print('HTMLParser parsering data ')\n",
    "        self.data = data\n",
    " \n",
    "    # def handle_endtag(self, tag):\n",
    "        # print(\"End tag: \", tag)\n",
    " "
   ]
  },
  {
   "cell_type": "code",
   "execution_count": null,
   "id": "7d09d58e-ac8f-498d-89bf-7a9141798db2",
   "metadata": {},
   "outputs": [],
   "source": [
    "\n"
   ]
  },
  {
   "cell_type": "code",
   "execution_count": 73,
   "id": "d9a771ee-e817-411d-8869-6f7835dd7c9e",
   "metadata": {},
   "outputs": [],
   "source": [
    "# patient_info.content"
   ]
  },
  {
   "cell_type": "code",
   "execution_count": 74,
   "id": "5b745d7a-d431-44d2-a2a1-35d3d3b673ce",
   "metadata": {},
   "outputs": [],
   "source": [
    "# p = patient_info\n",
    "# p.encoding='utf-8'\n",
    "# p.text"
   ]
  },
  {
   "cell_type": "code",
   "execution_count": 75,
   "id": "43932d34-00c5-400e-8f19-1e70cee2a407",
   "metadata": {},
   "outputs": [],
   "source": [
    "# testParser = HTMLParser()\n",
    "\n",
    "# text"
   ]
  },
  {
   "cell_type": "code",
   "execution_count": 76,
   "id": "a3f722d5-80c6-46d4-aec9-a5d3c9c2f1ca",
   "metadata": {},
   "outputs": [
    {
     "name": "stdout",
     "output_type": "stream",
     "text": [
      "HTMLParser parsering data \n"
     ]
    }
   ],
   "source": [
    "parser = Parse()\n",
    "parser.feed(patient_info)"
   ]
  },
  {
   "cell_type": "code",
   "execution_count": 77,
   "id": "470f4148-0c94-45b7-b034-8c4cd2f69a99",
   "metadata": {},
   "outputs": [
    {
     "data": {
      "text/plain": [
       "'<?xml version=\"1.0\" encoding=\"utf-8\"?><Data><Data_Row><lis_Barcode>43201258</lis_Barcode><sample_no>3</sample_no><pat_no>6583466836</pat_no><pat_id>6583466836</pat_id><pat_name>17-测试</pat_name><pat_bedNo></pat_bedNo><spouse_info></spouse_info><blood_time>2022-05-25 17:27:02</blood_time><pat_sex>0</pat_sex><pat_birthday></pat_birthday><pat_age/><pat_ageunit/><pat_tel></pat_tel><dept_name>测试科室</dept_name><doctor_name></doctor_name><doctor_tel></doctor_tel><clinical_diag></clinical_diag><samp_name>全血</samp_name><pat_Remark></pat_Remark><Pat_From>住院</Pat_From><Pat_ID>10494202205253</Pat_ID><pat_CardNo></pat_CardNo><LisItems><lis_item_code>32024</lis_item_code><lis_item_name>17α羟孕酮(爱湾)</lis_item_name><SubItems><lis_subitem_code>32382</lis_subitem_code><lis_subitem_name>17α-羟孕酮</lis_subitem_name></SubItems></LisItems></Data_Row></Data>'"
      ]
     },
     "execution_count": 77,
     "metadata": {},
     "output_type": "execute_result"
    }
   ],
   "source": [
    "data = parser.data\n",
    "data"
   ]
  },
  {
   "cell_type": "code",
   "execution_count": 78,
   "id": "c4deb7fd-98b7-4e35-a8b8-fb9cc090a72a",
   "metadata": {},
   "outputs": [],
   "source": [
    "root = ET.fromstring(data)\n",
    "# tree = ET.ElementTree(data)"
   ]
  },
  {
   "cell_type": "code",
   "execution_count": 79,
   "id": "491a2765-c536-499b-8255-b23704bd2349",
   "metadata": {},
   "outputs": [],
   "source": [
    "def get_tag(root,tag_name):\n",
    "    return root[0].find(tag_name).text"
   ]
  },
  {
   "cell_type": "code",
   "execution_count": 80,
   "id": "36f57221-f0b6-482e-9675-638402ad6289",
   "metadata": {},
   "outputs": [
    {
     "data": {
      "text/plain": [
       "'测试科室'"
      ]
     },
     "execution_count": 80,
     "metadata": {},
     "output_type": "execute_result"
    }
   ],
   "source": [
    "get_tag(root,'dept_name')"
   ]
  },
  {
   "cell_type": "code",
   "execution_count": null,
   "id": "de29b16f-101a-4f72-ba4e-b1c28e3e30f7",
   "metadata": {},
   "outputs": [],
   "source": []
  },
  {
   "cell_type": "code",
   "execution_count": 81,
   "id": "ebddab8e-94e9-4806-aa00-bcc93885739a",
   "metadata": {},
   "outputs": [],
   "source": [
    "# el = ET.XML(text)\n",
    "# # el.tag\n",
    "# for i in el :\n",
    "#     print(i.tag,\"--\",i.text)"
   ]
  },
  {
   "cell_type": "code",
   "execution_count": 82,
   "id": "73c99415-5609-4595-984f-eed9ff1be498",
   "metadata": {},
   "outputs": [],
   "source": [
    "# text.encode('utf-8')"
   ]
  },
  {
   "cell_type": "code",
   "execution_count": null,
   "id": "402e0fff-9ce2-42e3-a7db-a48f79b8650a",
   "metadata": {},
   "outputs": [],
   "source": []
  },
  {
   "cell_type": "code",
   "execution_count": null,
   "id": "52fcb217-9974-448a-aa36-82fdb3be8ad2",
   "metadata": {},
   "outputs": [],
   "source": []
  },
  {
   "cell_type": "code",
   "execution_count": null,
   "id": "bfe5a67b-45aa-4e96-992a-36339ed97736",
   "metadata": {},
   "outputs": [],
   "source": []
  },
  {
   "cell_type": "code",
   "execution_count": null,
   "id": "8906bba2-434a-4948-8a05-698b1ebb5d49",
   "metadata": {},
   "outputs": [],
   "source": [
    "# patient_info.encoding='utf-8'"
   ]
  },
  {
   "cell_type": "code",
   "execution_count": null,
   "id": "ad7e18a1-db24-4d9e-ae80-cb187432e348",
   "metadata": {},
   "outputs": [],
   "source": [
    "# text = patient_info.text"
   ]
  },
  {
   "cell_type": "code",
   "execution_count": null,
   "id": "a0add6a5-d740-48db-b5c7-8aefea52d868",
   "metadata": {},
   "outputs": [],
   "source": [
    "# parser = HTMLParser()\n",
    "# new_text = parser.data\n",
    "# print(new_text)"
   ]
  },
  {
   "cell_type": "code",
   "execution_count": null,
   "id": "d44dbab6-e033-4339-96c7-23143b0b7f7a",
   "metadata": {},
   "outputs": [],
   "source": []
  },
  {
   "cell_type": "code",
   "execution_count": null,
   "id": "564744df-c473-4b1f-bf20-ba4872294168",
   "metadata": {},
   "outputs": [],
   "source": []
  },
  {
   "cell_type": "code",
   "execution_count": 16,
   "id": "8a9febcb-ecff-4231-a45e-74afb7795bee",
   "metadata": {},
   "outputs": [],
   "source": [
    "# testParser.__doc__"
   ]
  },
  {
   "cell_type": "code",
   "execution_count": null,
   "id": "ce839d07-c8a2-420f-a65e-248888519bd4",
   "metadata": {},
   "outputs": [],
   "source": [
    "# testParser.escape"
   ]
  },
  {
   "cell_type": "code",
   "execution_count": null,
   "id": "b04404a5-75fb-4c5c-a6ea-234bfec1266b",
   "metadata": {},
   "outputs": [],
   "source": []
  },
  {
   "cell_type": "code",
   "execution_count": 18,
   "id": "ac255bb9-500d-4c05-ab50-ab1958cab5c5",
   "metadata": {},
   "outputs": [],
   "source": [
    "# dir(tree)"
   ]
  },
  {
   "cell_type": "code",
   "execution_count": 21,
   "id": "c7cac90b-746f-4e45-b1a3-df16a65f9983",
   "metadata": {},
   "outputs": [],
   "source": [
    "# root.findall('lis_Barcode')"
   ]
  },
  {
   "cell_type": "code",
   "execution_count": 22,
   "id": "bdc2a63a-a3e5-4d7c-a22b-1b654f8c0a40",
   "metadata": {},
   "outputs": [
    {
     "name": "stdout",
     "output_type": "stream",
     "text": [
      "Data_Row None\n"
     ]
    }
   ],
   "source": [
    "for i in root:\n",
    "    print(i.tag,i.text)"
   ]
  },
  {
   "cell_type": "code",
   "execution_count": 23,
   "id": "6aba6245-858d-4e89-9623-6248c5086150",
   "metadata": {},
   "outputs": [
    {
     "data": {
      "text/plain": [
       "'Data'"
      ]
     },
     "execution_count": 23,
     "metadata": {},
     "output_type": "execute_result"
    }
   ],
   "source": [
    "# root.tag"
   ]
  },
  {
   "cell_type": "code",
   "execution_count": 24,
   "id": "6bac04a2-cf14-4593-a17e-e5dc9678619b",
   "metadata": {},
   "outputs": [],
   "source": [
    "# root.text"
   ]
  },
  {
   "cell_type": "code",
   "execution_count": null,
   "id": "1573e856-2934-47a0-bf8e-accf69ac1d9c",
   "metadata": {},
   "outputs": [],
   "source": [
    "# tree.getroot()"
   ]
  },
  {
   "cell_type": "code",
   "execution_count": null,
   "id": "1036aec1-0483-48ae-a6d7-1dee99110ab5",
   "metadata": {},
   "outputs": [],
   "source": [
    "# tree.getroot()"
   ]
  },
  {
   "cell_type": "code",
   "execution_count": 25,
   "id": "b025fa5a-bf3d-493f-b6c5-eadcbeda2783",
   "metadata": {},
   "outputs": [
    {
     "data": {
      "text/plain": [
       "'Data_Row'"
      ]
     },
     "execution_count": 25,
     "metadata": {},
     "output_type": "execute_result"
    }
   ],
   "source": [
    "root[0].tag"
   ]
  },
  {
   "cell_type": "code",
   "execution_count": null,
   "id": "a6162f1b-f1cd-45ae-8062-63dc6eb6bbdc",
   "metadata": {},
   "outputs": [],
   "source": []
  },
  {
   "cell_type": "code",
   "execution_count": 27,
   "id": "5b6e8be3-19a7-4508-a47e-2767ce5b3945",
   "metadata": {},
   "outputs": [
    {
     "data": {
      "text/plain": [
       "'lis_Barcode'"
      ]
     },
     "execution_count": 27,
     "metadata": {},
     "output_type": "execute_result"
    }
   ],
   "source": [
    "root[0][0].tag"
   ]
  },
  {
   "cell_type": "code",
   "execution_count": 29,
   "id": "2891101c-f876-4f74-81d4-b18a00835491",
   "metadata": {},
   "outputs": [],
   "source": [
    "# for el in root.iter(tag='Data_Row'):\n",
    "#     print(el.tag,el.text)"
   ]
  },
  {
   "cell_type": "code",
   "execution_count": 30,
   "id": "5332cce5-d26c-48ad-b79d-1cbc8113dbe0",
   "metadata": {},
   "outputs": [
    {
     "data": {
      "text/plain": [
       "<Element 'lis_Barcode' at 0x0000021FAC1F4630>"
      ]
     },
     "execution_count": 30,
     "metadata": {},
     "output_type": "execute_result"
    }
   ],
   "source": [
    "root[0][0]"
   ]
  },
  {
   "cell_type": "code",
   "execution_count": 31,
   "id": "0fe4a5b0-4ee5-4a01-b9b1-e8a7a696fce6",
   "metadata": {},
   "outputs": [],
   "source": [
    "# pat_no = root[0][2].text\n",
    "# pat_name = root[0][].text\n",
    "# pat_no = root[0][2].text\n",
    "# pat_no = root[0][2].text\n",
    "# pat_no = root[0][2].text\n",
    "# pat_no = root[0][2].text\n",
    "# pat_no = root[0][2].text"
   ]
  },
  {
   "cell_type": "code",
   "execution_count": null,
   "id": "9abe63fb-f121-4d30-8f9e-f8ecec415f47",
   "metadata": {},
   "outputs": [],
   "source": []
  },
  {
   "cell_type": "code",
   "execution_count": 33,
   "id": "d9d18147-b9f9-4880-a07d-7ae475c4dc65",
   "metadata": {},
   "outputs": [
    {
     "data": {
      "text/plain": [
       "[]"
      ]
     },
     "execution_count": 33,
     "metadata": {},
     "output_type": "execute_result"
    }
   ],
   "source": [
    "# root.findall('pat_no')"
   ]
  },
  {
   "cell_type": "code",
   "execution_count": 34,
   "id": "6973a813-4928-4e08-94a4-d3ff4e1f6a0a",
   "metadata": {},
   "outputs": [],
   "source": [
    "# root.findtext('2001909006')"
   ]
  },
  {
   "cell_type": "code",
   "execution_count": 38,
   "id": "73469fc0-9950-4c5e-b5fa-f4cead9cb57b",
   "metadata": {},
   "outputs": [],
   "source": [
    "# pat_no = root[0].find('pat_no').text\n",
    "# doctor_name=  root[0].find('dept_name').text\n",
    "# dept_name = root[0].find('dept_name').text"
   ]
  },
  {
   "cell_type": "code",
   "execution_count": 47,
   "id": "80327f80-fd6a-4485-aeea-7404c6555a84",
   "metadata": {},
   "outputs": [
    {
     "data": {
      "text/plain": [
       "'郝海萍'"
      ]
     },
     "execution_count": 47,
     "metadata": {},
     "output_type": "execute_result"
    }
   ],
   "source": [
    "get_tag(root,'pat_name')"
   ]
  },
  {
   "cell_type": "code",
   "execution_count": null,
   "id": "2603d8e4-5072-4daa-b663-81c44918fb8c",
   "metadata": {},
   "outputs": [],
   "source": []
  }
 ],
 "metadata": {
  "kernelspec": {
   "display_name": "Python 3 (ipykernel)",
   "language": "python",
   "name": "python3"
  },
  "language_info": {
   "codemirror_mode": {
    "name": "ipython",
    "version": 3
   },
   "file_extension": ".py",
   "mimetype": "text/x-python",
   "name": "python",
   "nbconvert_exporter": "python",
   "pygments_lexer": "ipython3",
   "version": "3.9.7"
  }
 },
 "nbformat": 4,
 "nbformat_minor": 5
}
