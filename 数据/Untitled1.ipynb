{
 "cells": [
  {
   "cell_type": "code",
   "execution_count": 2,
   "metadata": {},
   "outputs": [
    {
     "name": "stdout",
     "output_type": "stream",
     "text": [
      "aaa\n"
     ]
    }
   ],
   "source": [
    "from openpyxl import load_workbook\n",
    "from html.parser import HTMLParser\n",
    "import requests,base64,os\n",
    "from xml.etree import ElementTree  as ET\n",
    "print('aaa')"
   ]
  },
  {
   "cell_type": "code",
   "execution_count": null,
   "metadata": {},
   "outputs": [],
   "source": []
  },
  {
   "cell_type": "code",
   "execution_count": 92,
   "metadata": {},
   "outputs": [],
   "source": [
    "def get_excel_info(infile,hospSampleID,flag = '5'):\n",
    "    result_dct_lst = []\n",
    "    all_lis_item_code =  ['32378', '32379', '32380', '32381', '32383']\n",
    "#     patient_info = get_patient_info(hospSampleID)\n",
    "    dct = {}\n",
    "#     dct = get_LisRequest_data(patient_info)\n",
    "    ex  = load_workbook(infile)\n",
    "    tb = ex['报告']\n",
    "    dct['lis_Barcode'] = tb.cell(row=4,column=3).value\n",
    "    # 采样日期：\t\n",
    "    dct['blood_time'] = tb.cell(row=6,column=3).value\n",
    "    dct['ext_receive_time'],dct['ext_check_time'],dct['ext_report_time'] =  tb.cell(row=7,column=3).value, \\\n",
    "                                                                            tb.cell(row=7,column=7).value, \\\n",
    "                                                                            tb.cell(row=7,column=10).value\n",
    "   # sheet里面从B10到H16,即检测结果的内容：\n",
    "    result_info = ''\n",
    "    i  = 0\n",
    "    all_lis_item_code =  ['32378', '32379', '32380', '32383', '32381','32382']\n",
    "    all_lis_item_name =  ['睾酮', '雄烯二酮', '硫酸脱氢表雄酮', '双氢睾酮', '脱氢表雄酮','17α-羟孕酮']\n",
    "    all_lis_combine_code = ['32025']*5 + ['32024']\n",
    "    for row in range(10,16):\n",
    "        result_dct = {}\n",
    "        i += 1\n",
    "        if flag == '5' and i ==6:\n",
    "            continue \n",
    "        if flag == '17' and i  in (1,2,3,4,5):\n",
    "            continue \n",
    "        print(i)\n",
    "        result_dct['ext_item_code'] = all_lis_item_code[i-1]\n",
    "        result_dct['lis_item_name'] = all_lis_item_name[i-1]\n",
    "\n",
    "        # ext_item_name = tb.cell(row=row,column=2).value\n",
    "        result_dct['lis_item_code'] = all_lis_item_code[i-1]  \n",
    "        result_dct['result'] = tb.cell(row=row,column=7).value   \n",
    "        result_dct['lis_combine_code'] = all_lis_combine_code[i-1]\n",
    "\n",
    "        print('lis_item_nam--------')\n",
    "        print(all_lis_item_name[i-1],all_lis_item_code[i-1] ,result_dct['result'] )            \n",
    "        result_dct['ext_item_code'] = all_lis_item_code[i-1]\n",
    "        # ext_item_name = tb.cell(row=row,column=2).value\n",
    "#         result_dct['lis_item_code'] = tb.cell(row=row,column=13).value     \n",
    "        # lis_item_name =  tb.cell(row=row,column=2).value\n",
    "        result_dct['result'] = tb.cell(row=row,column=7).value    \n",
    "        result_dct_lst.append(result_dct)\n",
    "#         print(tb.cell(row=row,column=7).value    )\n",
    "#         result_dct['ext_combine_code'] = dct['lis_combine_code']   \n",
    "        \n",
    "        # result_unit = tb.cell(row=10,column=11).value  \n",
    "    \n",
    "        # param = [ext_item_code,result,result_unit,lis_item_code,lis_combine_code,ext_combine_code]\n",
    "#         result_info += set_result_info(result_dct)\n",
    "    result_info = result_info + '<report_pic><pic_content>'  \n",
    "    # print(lis_Barcode, blood_time, ext_receive_time, ext_check_time, ext_report_time)\n",
    "\n",
    "    return result_dct_lst, result_info ,  dct"
   ]
  },
  {
   "cell_type": "code",
   "execution_count": 93,
   "metadata": {},
   "outputs": [],
   "source": [
    "infile = 'E:/linuxPathFile/shenZhen_CentOs/project/long-term-proj/pcos/PCOS_transfer_data-new/数据/省妇幼报告/陈嘉绮-激素检测报告-2022-05-25.xlsx'"
   ]
  },
  {
   "cell_type": "code",
   "execution_count": 94,
   "metadata": {},
   "outputs": [
    {
     "name": "stdout",
     "output_type": "stream",
     "text": [
      "1\n",
      "lis_item_nam--------\n",
      "睾酮 32378 0.456\n",
      "2\n",
      "lis_item_nam--------\n",
      "雄烯二酮 32379 2.826\n",
      "3\n",
      "lis_item_nam--------\n",
      "硫酸脱氢表雄酮 32380 1596.602\n",
      "4\n",
      "lis_item_nam--------\n",
      "双氢睾酮 32383 0.101\n",
      "5\n",
      "lis_item_nam--------\n",
      "脱氢表雄酮 32381 6.255\n"
     ]
    }
   ],
   "source": [
    "result_dct_lst,result_info ,  dct = get_excel_info(f,'3243146536',flag = '5')"
   ]
  },
  {
   "cell_type": "code",
   "execution_count": 96,
   "metadata": {},
   "outputs": [
    {
     "data": {
      "text/plain": [
       "[{'ext_item_code': '32378',\n",
       "  'lis_item_name': '睾酮',\n",
       "  'lis_item_code': '32378',\n",
       "  'result': 0.456,\n",
       "  'lis_combine_code': '32025'},\n",
       " {'ext_item_code': '32379',\n",
       "  'lis_item_name': '雄烯二酮',\n",
       "  'lis_item_code': '32379',\n",
       "  'result': 2.826,\n",
       "  'lis_combine_code': '32025'},\n",
       " {'ext_item_code': '32380',\n",
       "  'lis_item_name': '硫酸脱氢表雄酮',\n",
       "  'lis_item_code': '32380',\n",
       "  'result': 1596.602,\n",
       "  'lis_combine_code': '32025'},\n",
       " {'ext_item_code': '32383',\n",
       "  'lis_item_name': '双氢睾酮',\n",
       "  'lis_item_code': '32383',\n",
       "  'result': 0.101,\n",
       "  'lis_combine_code': '32025'},\n",
       " {'ext_item_code': '32381',\n",
       "  'lis_item_name': '脱氢表雄酮',\n",
       "  'lis_item_code': '32381',\n",
       "  'result': 6.255,\n",
       "  'lis_combine_code': '32025'}]"
      ]
     },
     "execution_count": 96,
     "metadata": {},
     "output_type": "execute_result"
    }
   ],
   "source": [
    "result_dct_lst\n"
   ]
  },
  {
   "cell_type": "code",
   "execution_count": 97,
   "metadata": {},
   "outputs": [],
   "source": [
    "ex  = load_workbook(infile)\n",
    "tb = ex['报告']\n",
    "dct['lis_Barcode'] = tb.cell(row=4,column=3).value\n",
    "# 采样日期：\t\n",
    "dct['blood_time'] = tb.cell(row=6,column=3).value"
   ]
  },
  {
   "cell_type": "code",
   "execution_count": 90,
   "metadata": {},
   "outputs": [
    {
     "data": {
      "text/plain": [
       "0.456"
      ]
     },
     "execution_count": 90,
     "metadata": {},
     "output_type": "execute_result"
    }
   ],
   "source": [
    "tb.cell(row=10,column=7).value"
   ]
  },
  {
   "cell_type": "code",
   "execution_count": 91,
   "metadata": {},
   "outputs": [
    {
     "name": "stdout",
     "output_type": "stream",
     "text": [
      "10\n",
      "11\n",
      "12\n",
      "13\n",
      "14\n",
      "15\n"
     ]
    }
   ],
   "source": [
    "for row in range(10,16):\n",
    "    print(row)"
   ]
  },
  {
   "cell_type": "code",
   "execution_count": 60,
   "metadata": {},
   "outputs": [],
   "source": [
    "    all_lis_item_code =  ['32378', '32379', '32380', '32383', '32381']\n",
    "    all_lis_item_name =  ['睾酮', '雄烯二酮', '硫酸脱氢表雄酮', '双氢睾酮', '脱氢表雄酮','17α-羟孕酮']"
   ]
  },
  {
   "cell_type": "code",
   "execution_count": 62,
   "metadata": {},
   "outputs": [
    {
     "data": {
      "text/plain": [
       "'雄烯二酮'"
      ]
     },
     "execution_count": 62,
     "metadata": {},
     "output_type": "execute_result"
    }
   ],
   "source": [
    "all_lis_item_name[1]"
   ]
  },
  {
   "cell_type": "code",
   "execution_count": 98,
   "metadata": {},
   "outputs": [],
   "source": [
    "s = '3243146536+3343146537'"
   ]
  },
  {
   "cell_type": "code",
   "execution_count": 100,
   "metadata": {},
   "outputs": [
    {
     "data": {
      "text/plain": [
       "'3343146537'"
      ]
     },
     "execution_count": 100,
     "metadata": {},
     "output_type": "execute_result"
    }
   ],
   "source": [
    "s.split('+')[-1]"
   ]
  },
  {
   "cell_type": "code",
   "execution_count": null,
   "metadata": {},
   "outputs": [],
   "source": []
  }
 ],
 "metadata": {
  "kernelspec": {
   "display_name": "Python 3",
   "language": "python",
   "name": "python3"
  },
  "language_info": {
   "codemirror_mode": {
    "name": "ipython",
    "version": 3
   },
   "file_extension": ".py",
   "mimetype": "text/x-python",
   "name": "python",
   "nbconvert_exporter": "python",
   "pygments_lexer": "ipython3",
   "version": "3.7.3"
  }
 },
 "nbformat": 4,
 "nbformat_minor": 4
}
