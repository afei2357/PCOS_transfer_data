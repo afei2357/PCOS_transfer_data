{
 "cells": [
  {
   "cell_type": "code",
   "execution_count": 416,
   "metadata": {},
   "outputs": [],
   "source": [
    "from openpyxl import load_workbook\n",
    "import requests,base64\n",
    "from xml.etree import ElementTree\n",
    "# 运行之前记得关闭DevSidecar或者别的代理工具"
   ]
  },
  {
   "cell_type": "code",
   "execution_count": null,
   "metadata": {},
   "outputs": [],
   "source": []
  },
  {
   "cell_type": "code",
   "execution_count": 443,
   "metadata": {},
   "outputs": [],
   "source": [
    "# ex  = load_workbook('test2.xlsx')\n",
    "ex  = load_workbook(\"E:/project/common/2022/05/5.26/省妇幼pcos报告-2022-05-25/省妇幼pcos报告-2022-05-25/何丽敏-激素检测报告-2022-05-25.xlsx\")\n",
    "\n",
    "tb = ex['报告']"
   ]
  },
  {
   "cell_type": "code",
   "execution_count": 444,
   "metadata": {},
   "outputs": [
    {
     "name": "stdout",
     "output_type": "stream",
     "text": [
      "2022-05-21 2022-05-24 2022-05-25\n"
     ]
    }
   ],
   "source": [
    "lis_Barcode = tb.cell(row=4,column=3).value\n",
    "# 姓名\n",
    "pat_name = tb.cell(row=4,column=7).value \n",
    "# 实验号：\n",
    "lab_code = tb.cell(row=4,column=10).value \n",
    "age = tb.cell(row=5,column=3).value \n",
    "# 性别\n",
    "pat_sex = tb.cell(row=5,column=7).value\n",
    "# 送检单位：\n",
    "dept_name = tb.cell(row=5,column=10).value\n",
    "# 采样日期：\t\n",
    "blood_time = tb.cell(row=6,column=3).value\n",
    "# 标本类型：\t\n",
    "sam_name = tb.cell(row=6,column=7).value\n",
    "# 标本状态\n",
    "sam_state = tb.cell(row=6,column=10).value\n",
    "\n",
    "ext_receive_time,ext_check_time,ext_report_time =   tb.cell(row=7,column=3).value, \\\n",
    "                                                    tb.cell(row=7,column=7).value, \\\n",
    "                                                    tb.cell(row=7,column=10).value\n",
    "\n",
    "print(ext_receive_time,ext_check_time,ext_report_time )"
   ]
  },
  {
   "cell_type": "code",
   "execution_count": 419,
   "metadata": {},
   "outputs": [],
   "source": [
    "# # 检测项目1\n",
    "# test_name1 = tb.cell(row=10,column=2).value\n",
    "\n",
    "# # 检测项目1 结果\n",
    "# test_result1 = tb.cell(row=10,column=7).value\n",
    "\n",
    "# # 检测项目1 单位\n",
    "# test_unit1 = tb.cell(row=10,column=11).value\n",
    "# print(test_name1,test_result1,test_unit1)"
   ]
  },
  {
   "cell_type": "code",
   "execution_count": 420,
   "metadata": {},
   "outputs": [],
   "source": [
    "# ext_item_code = tb.cell(row=10,column=13).value\n"
   ]
  },
  {
   "cell_type": "code",
   "execution_count": 421,
   "metadata": {},
   "outputs": [],
   "source": [
    "# print(data1)"
   ]
  },
  {
   "cell_type": "code",
   "execution_count": null,
   "metadata": {},
   "outputs": [],
   "source": []
  },
  {
   "cell_type": "code",
   "execution_count": 445,
   "metadata": {},
   "outputs": [],
   "source": [
    "# 对每个检测项目的xml的result_info设置值\n",
    "def set_result_info(*param):\n",
    "    # result_info = f'''---------{result_name}--------{result}===={result_unit}-------{result_reference}\\n'''\n",
    "    result_info = f'''    \n",
    "    <result_info>\n",
    "        <result_seq/>\n",
    "        <ext_combine_code>{ext_combine_code}</ext_combine_code>\n",
    "        <ext_combine_name>{ext_combine_name}</ext_combine_name>\n",
    "        <ext_item_code>{ext_item_code}</ext_item_code>\n",
    "        <ext_item_name>{ext_item_name}</ext_item_name>\n",
    "        <result>        <![CDATA[{result}]]]]>>        <![CDATA[</result>\n",
    "        <result_unit>        <![CDATA[{result_unit}]]]]>>   <![CDATA[</result_unit>\n",
    "        <result_flag/>\n",
    "        <result_reference>    <![CDATA[{result_reference}]]]]>>       <![CDATA[</result_reference>\n",
    "        <result_date/>\n",
    "        <result_intstrmt_name/>\n",
    "        <result_test_method/>\n",
    "        <result_suggestion/>\n",
    "        <result_remark/>\n",
    "        <lis_combine_code>{lis_combine_code}</lis_combine_code>\n",
    "        <lis_combine_name>{lis_combine_name}</lis_combine_name>\n",
    "        <lis_item_code>{lis_item_code}</lis_item_code>\n",
    "        <lis_item_name>{lis_item_name}</lis_item_name>    \n",
    "    </result_info>\n",
    "   '''\n",
    "    return result_info"
   ]
  },
  {
   "cell_type": "code",
   "execution_count": null,
   "metadata": {},
   "outputs": [],
   "source": []
  },
  {
   "cell_type": "code",
   "execution_count": null,
   "metadata": {},
   "outputs": [],
   "source": []
  },
  {
   "cell_type": "code",
   "execution_count": null,
   "metadata": {},
   "outputs": [],
   "source": []
  },
  {
   "cell_type": "code",
   "execution_count": 446,
   "metadata": {},
   "outputs": [],
   "source": [
    "#提取参考值\n",
    "# ref_name = tb.cell(row=19,column=4).value\n",
    "# ref1 = tb.cell(row=19,column=8).value\n",
    "# print(ref_name,ref1)"
   ]
  },
  {
   "cell_type": "code",
   "execution_count": null,
   "metadata": {},
   "outputs": [],
   "source": []
  },
  {
   "cell_type": "code",
   "execution_count": 447,
   "metadata": {},
   "outputs": [
    {
     "name": "stdout",
     "output_type": "stream",
     "text": [
      "0.02 - 0.45\n"
     ]
    }
   ],
   "source": [
    "# sheet里面从B19到H25，即参考范围的内容：\n",
    "for row in range(19,25+1):\n",
    "    result_reference_name = tb.cell(row=row,column=4).value\n",
    "    result_reference = tb.cell(row=row,column=8).value    \n",
    "    # print(result_reference_name,result_reference)\n",
    "print(tb.cell(row=19,column=8).value)"
   ]
  },
  {
   "cell_type": "code",
   "execution_count": 448,
   "metadata": {},
   "outputs": [],
   "source": [
    "# ext_lab_code = '42625453' #       非必要的  \n",
    "# lis_Barcode = '43201252' # 当前数据的医院条码在LIS数据库中不存在！条码号为：222\n",
    "# lis_Barcode = '43201258' # 当前数据的医院条码在LIS数据库中不存在！条码号为：222\n",
    "lis_Barcode = '4043146697' # 当前数据的医院条码在LIS数据库中不存在！条码号为：222\n",
    "\n",
    "\n",
    "# lis_Barcode = '2343127051' # 当前数据的医院条码在LIS数据库中不存在！条码号为：222\n",
    "\n",
    "# ext_Barcode = '100311224212' #     非必要的  \n",
    "# pat_name = \n",
    "# pat_age = \n",
    "# pat_id = '2001909006' # 不是必要的\n",
    "# pat_id = '200199999'\n",
    "\n",
    "# pat_sex = \n",
    "# sam_name = 样本类型\n",
    "# sam_state 无肉眼可见异常\n",
    "# doctor_name = '王芳' # 不是必要的\n",
    "# dept_name 送检科室\n",
    "# blood_time = \n",
    "# ext_receive_time = \n",
    "# 报告单号\n",
    "ext_report_code = '报告编码'"
   ]
  },
  {
   "cell_type": "code",
   "execution_count": 449,
   "metadata": {
    "tags": []
   },
   "outputs": [
    {
     "data": {
      "text/plain": [
       "'4043146697'"
      ]
     },
     "execution_count": 449,
     "metadata": {},
     "output_type": "execute_result"
    }
   ],
   "source": [
    "lis_Barcode"
   ]
  },
  {
   "cell_type": "code",
   "execution_count": 427,
   "metadata": {},
   "outputs": [],
   "source": [
    "\n",
    "# data1"
   ]
  },
  {
   "cell_type": "code",
   "execution_count": 428,
   "metadata": {},
   "outputs": [],
   "source": [
    "# ext_combine_code = '742'  #组合项目               \n",
    "# ext_combine_name = '742' #项目名称\n",
    "# ext_item_code = '742-9506' #结果项目代码\n",
    "# ext_item_name = '外院测试项目' #结果项目名称\n",
    "# # result = # 结果\n",
    "# # result_unit = #单位\n",
    "# # result_reference = # 参考值\n",
    "# lis_combine_code =  '10983' #医院组合项目代码\n",
    "# lis_combine_name = '院内测试组合' # 医院组合项目名称\n",
    "# lis_item_code = '32025' #医院结果项目代码\n",
    "# lis_item_name = '雄激素5项(爱湾)' #医院结果项目名称"
   ]
  },
  {
   "cell_type": "code",
   "execution_count": null,
   "metadata": {},
   "outputs": [],
   "source": []
  },
  {
   "cell_type": "code",
   "execution_count": 450,
   "metadata": {},
   "outputs": [],
   "source": [
    "# ext_combine_code = '742-1'  #组合项目      非必要的         \n",
    "# ext_combine_name = '742-1' #项目名称      非必要的\n",
    "# ext_item_code = '742-9506-1' #结果项目代码     非必要的\n",
    "# ext_item_name = '外院测试项目00-1' #结果项目名称     非必要的\n",
    "# result = # 结果\n",
    "# result_unit = #单位\n",
    "# result_reference = # 参考值\n",
    "\n",
    "# lis_item_code = '32344' # 医院结果项目代码 GetLisRequest接口取到的 lis_subitem_code    \n",
    "# lis_item_name = '外送项目' #医院结果项目名称  GetLisRequest接口取到的 lis_subitem_name  \n",
    "\n",
    "ext_Barcode = 'aiWanYiXue'\n",
    "ext_report_code = 'report1'\n",
    "ext_combine_name = 'PCOS激素多项'\n",
    "ext_combine_code = 'PCOSAONEMED'\n",
    "\n",
    "lis_combine_code = '32025'           # GetLisRequest接口取到的 lis_item_code\n",
    "lis_combine_name = '雄激素5项(爱湾)' # GetLisRequest接口取到的 lis_item_name \n"
   ]
  },
  {
   "cell_type": "code",
   "execution_count": 451,
   "metadata": {},
   "outputs": [],
   "source": [
    "data1 = f'''\n",
    "<soap:Envelope\n",
    "    xmlns:soap=\"http://www.w3.org/2003/05/soap-envelope\"\n",
    "    xmlns:tem=\"http://tempuri.org/\">\n",
    "    <soap:Header/>\n",
    "    <soap:Body>\n",
    "        <tem:UploadLisRepData>\n",
    "            <!--Optional:-->\n",
    "            <tem:reportResult>\n",
    "                <![CDATA[<Report_Result><Report_Info>\n",
    "                <ext_lab_code></ext_lab_code>\n",
    "                <lis_Barcode>{lis_Barcode}</lis_Barcode>\n",
    "                <ext_Barcode>{ext_Barcode}</ext_Barcode>\n",
    "                <ext_checkItem/>\n",
    "                <pat_name>{pat_name}</pat_name>\n",
    "                <pat_age></pat_age>\n",
    "                <pat_height/>\n",
    "                <pat_wight/>\n",
    "                <pat_pre_week/>\n",
    "                <pat_id>{pat_id}</pat_id>\n",
    "                <pat_bedNo/>\n",
    "                <pat_tel/>\n",
    "                <pat_sex>{pat_sex}</pat_sex>\n",
    "                <pat_birthday/>\n",
    "                <pat_ori_name/>\n",
    "                <sam_name>{sam_name}</sam_name>\n",
    "                <sam_state>{sam_state}</sam_state>\n",
    "                <doctor_name>{doctor_name}</doctor_name>\n",
    "                <dept_name>{dept_name}</dept_name>\n",
    "                <clinical_diag/>\n",
    "                <SampleNumber/>\n",
    "                <blood_time>{blood_time}</blood_time>\n",
    "                <ext_check_ID/>\n",
    "                <ext_receive_time>{ext_receive_time}</ext_receive_time>\n",
    "                <ext_upload_time/>\n",
    "                <ext_report_suggestion/>\n",
    "                <ext_report_remark/>\n",
    "                <ext_intstrmt_name/>\n",
    "                <ext_lab_name/>\n",
    "                <ext_report_type/>\n",
    "                <ext_check_time/>\n",
    "                <ext_first_audit_time/>\n",
    "                <ext_first_audit_time/>\n",
    "                <ext_second_audit_time/>\n",
    "                <ext_checker/>\n",
    "                <ext_first_audit/>\n",
    "                <ext_second_audit/>\n",
    "                <ext_report_code>{ext_report_code}</ext_report_code>\n",
    "'''"
   ]
  },
  {
   "cell_type": "code",
   "execution_count": 452,
   "metadata": {},
   "outputs": [],
   "source": [
    "# # 获取项目名称和缩写\n",
    "# tb.cell(row=10,column=13).value\n",
    "# tb.cell(row=10,column=2).value\n"
   ]
  },
  {
   "cell_type": "code",
   "execution_count": 453,
   "metadata": {
    "tags": []
   },
   "outputs": [],
   "source": [
    "# sheet里面从B10到H16,即检测结果的内容：\n",
    "result_info = ''\n",
    "i  = 0\n",
    "for row in range(10,16+1):\n",
    "    i += 1\n",
    "    # if i > 1:\n",
    "    #     break\n",
    "    if i !=5:\n",
    "        continue\n",
    "    ext_item_code = tb.cell(row=row,column=13).value\n",
    "    \n",
    "    ext_item_name = tb.cell(row=row,column=2).value\n",
    "    \n",
    "    lis_item_code = tb.cell(row=row,column=13).value     \n",
    "    lis_item_name =  tb.cell(row=row,column=2).value\n",
    "    \n",
    "    result = tb.cell(row=row,column=7).value    \n",
    "    result_unit = tb.cell(row=10,column=11).value  \n",
    "    result_reference = tb.cell(row=row+9,column=8).value      # result_reference不能超过29个字符\n",
    "    if  len(result_reference) > 28:\n",
    "        # result_reference = result_reference[0:28]\n",
    "        result_reference = ''\n",
    "        \n",
    "        \n",
    "    param = [ext_item_code,ext_item_name,result,result_unit,result_reference,lis_item_code,]\n",
    "    result_info += set_result_info(param)\n",
    "result_info = result_info + '<report_pic><pic_content>'\n",
    "# print(result_info)"
   ]
  },
  {
   "cell_type": "code",
   "execution_count": 454,
   "metadata": {},
   "outputs": [],
   "source": [
    "# xml的结尾部分\n",
    "data3 = '''</pic_content><pic_name>test_base64.pdf</pic_name><pic_seq></pic_seq></report_pic></Report_Info></Report_Result>]]>\n",
    "            </tem:reportResult>\n",
    "        </tem:UploadLisRepData>\n",
    "    </soap:Body>\n",
    "</soap:Envelope>\n",
    "    '''"
   ]
  },
  {
   "cell_type": "code",
   "execution_count": 456,
   "metadata": {},
   "outputs": [],
   "source": [
    "# pdf部分\n",
    "data2 = ''\n",
    "# with open('./郝海萍-激素检测报告-2022-05-20.pdf','rb') as fh:\n",
    "with open('E:/project/common/2022/05/5.26/省妇幼pcos报告-2022-05-25/省妇幼pcos报告-2022-05-25/何丽敏-激素检测报告-2022-05-25.xlsx','rb') as fh:\n",
    "    \n",
    "        data2 = base64.b64encode(fh.read())\n",
    "# data = data1.encode('utf-8') + data2 + data3.encode('utf-8')"
   ]
  },
  {
   "cell_type": "code",
   "execution_count": 457,
   "metadata": {},
   "outputs": [],
   "source": [
    "# raw_data = data1 +result_info+data2+  data3\n",
    "# print(raw_data)"
   ]
  },
  {
   "cell_type": "code",
   "execution_count": 458,
   "metadata": {},
   "outputs": [],
   "source": [
    "# print(data1)"
   ]
  },
  {
   "cell_type": "code",
   "execution_count": null,
   "metadata": {},
   "outputs": [],
   "source": []
  },
  {
   "cell_type": "code",
   "execution_count": 459,
   "metadata": {},
   "outputs": [
    {
     "name": "stdout",
     "output_type": "stream",
     "text": [
      "patient_info.text----\n",
      "<?xml version=\"1.0\" encoding=\"utf-8\"?><soap:Envelope xmlns:soap=\"http://www.w3.org/2003/05/soap-envelope\" xmlns:xsi=\"http://www.w3.org/2001/XMLSchema-instance\" xmlns:xsd=\"http://www.w3.org/2001/XMLSchema\"><soap:Body><UploadLisRepDataResponse xmlns=\"http://tempuri.org/\"><UploadLisRepDataResult>error:列名 'pat_reach_date' 无效。\n",
      "列名 'pat_outreport_type' 无效。</UploadLisRepDataResult></UploadLisRepDataResponse></soap:Body></soap:Envelope>\n"
     ]
    }
   ],
   "source": [
    "encode_data = data1.encode('utf-8') +result_info.encode('utf-8') + data2 +  data3.encode('utf-8')\n",
    "headers = {\"Host\": \"10.10.11.196\",\n",
    "        \"Content-Type\": \"text/xml; charset=utf-8\",\n",
    "        # \"Content-Type\": \"application/soap+xml; charset=UTF-8\",  \n",
    "        \"Content-Length\": str(len(encode_data)) ,#}\n",
    "        \"SOAPAction\": \"http://tempuri.org/UploadLisRepData\"}\n",
    "#patient_info = requests.post(f'http://{Config.MIDDLE_HOST_ADDRESS}/test', data=encode_data,headers=headers)\n",
    "patient_info = requests.post(f'http://58.62.17.237:4431/ExtReportService', data=encode_data ,headers=headers)\n",
    "\n",
    "# print('patient_info.header----')\n",
    "# print(patient_info.headers)\n",
    "print('patient_info.text----')    \n",
    "print(patient_info.text)\n"
   ]
  },
  {
   "cell_type": "code",
   "execution_count": 440,
   "metadata": {},
   "outputs": [],
   "source": [
    "# lis_Barcode\n",
    "with open('test_in_parm_ok_17Alpha.xml','wb') as fh:\n",
    "    fh.write(encode_data)"
   ]
  },
  {
   "cell_type": "code",
   "execution_count": 439,
   "metadata": {
    "tags": []
   },
   "outputs": [
    {
     "name": "stdout",
     "output_type": "stream",
     "text": [
      "    \n",
      "    <result_info>\n",
      "        <result_seq/>\n",
      "        <ext_combine_code>PCOSAONEMED</ext_combine_code>\n",
      "        <ext_combine_name>PCOS激素多项</ext_combine_name>\n",
      "        <ext_item_code>32382</ext_item_code>\n",
      "        <ext_item_name>17α-羟孕酮</ext_item_name>\n",
      "        <result>        <![CDATA[1.528]]]]>>        <![CDATA[</result>\n",
      "        <result_unit>        <![CDATA[ng/mL]]]]>>   <![CDATA[</result_unit>\n",
      "        <result_flag/>\n",
      "        <result_reference>    <![CDATA[卵泡期0.09-2.00;黄体期0.3-2.34]]]]>>       <![CDATA[</result_reference>\n",
      "        <result_date/>\n",
      "        <result_intstrmt_name/>\n",
      "        <result_test_method/>\n",
      "        <result_suggestion/>\n",
      "        <result_remark/>\n",
      "        <lis_combine_code>32025</lis_combine_code>\n",
      "        <lis_combine_name>雄激素5项(爱湾)</lis_combine_name>\n",
      "        <lis_item_code>32382</lis_item_code>\n",
      "        <lis_item_name>17α-羟孕酮</lis_item_name>    \n",
      "    </result_info>\n",
      "   <report_pic><pic_content>\n"
     ]
    }
   ],
   "source": [
    "print(result_info)"
   ]
  },
  {
   "cell_type": "code",
   "execution_count": null,
   "metadata": {},
   "outputs": [],
   "source": []
  },
  {
   "cell_type": "markdown",
   "metadata": {},
   "source": [
    "聊天结果：   \n",
    "GetLisRequest接口取到的 lis_item_code = UploadLisRepData的 lis_combine_code   \n",
    "GetLisRequest接口取到的 lis_item_name = UploadLisRepData的 lis_combine_name   \n",
    "\n",
    "GetLisRequest接口取到的 lis_subitem_code = UploadLisRepData的 lis_item_code   \n",
    "GetLisRequest接口取到的 lis_subitem_name = UploadLisRepData的 lis_item_name"
   ]
  },
  {
   "cell_type": "markdown",
   "metadata": {
    "tags": []
   },
   "source": [
    "# ----------本格的代码不再使用，仅作为备份-----------------\n",
    "\n",
    "# 设置基础数据内容,这个函数暂时不用\n",
    "def set_data1():\n",
    "    data1 = f'''\n",
    "    <soap:Envelope\n",
    "        xmlns:soap=\"http://www.w3.org/2003/05/soap-envelope\"\n",
    "        xmlns:tem=\"http://tempuri.org/\">\n",
    "        <soap:Header/>\n",
    "        <soap:Body>\n",
    "            <tem:UploadLisRepData>\n",
    "                <!--Optional:-->\n",
    "                <tem:reportResult>\n",
    "                    <![CDATA[<Report_Result><Report_Info><ext_lab_code></ext_lab_code><lis_Barcode>{lis_Barcode}</lis_Barcode>\n",
    "                    <ext_Barcode>{ext_Barcode}</ext_Barcode><ext_checkItem/><pat_name>{pat_name}</pat_name><pat_age>\n",
    "                    </pat_age><pat_height/><pat_wight/><pat_pre_week/><pat_id>{pat_id}</pat_id><pat_bedNo/><pat_tel/>\n",
    "                    <pat_sex>{pat_sex}</pat_sex><pat_birthday/><pat_ori_name/><sam_name>{sam_name}</sam_name>\n",
    "                    <sam_state>{sam_state}</sam_state><doctor_name>{doctor_name}</doctor_name><dept_name>{dept_name}</dept_name>\n",
    "                    <clinical_diag/><SampleNumber/><blood_time>{blood_time}</blood_time><ext_check_ID/>\n",
    "                    <ext_receive_time>{ext_receive_time}</ext_receive_time><ext_upload_time/><ext_report_suggestion/>\n",
    "                    <ext_report_remark/><ext_intstrmt_name/><ext_lab_name/><ext_report_type/><ext_check_time/><ext_first_audit_time/>\n",
    "                    <ext_first_audit_time/><ext_second_audit_time/><ext_checker/><ext_first_audit/>\n",
    "                    <ext_second_audit/><ext_report_code>{ext_report_code}</ext_report_code>'''\n",
    "    return data1\n",
    "\n",
    "# 对每个检测项目的xml的result_info设置值，下面的代码用于备份，不再使用\n",
    "def set_result_info_bk(*param):\n",
    "    # result_info = f'''---------{result_name}--------{result}===={result_unit}-------{result_reference}\\n'''\n",
    "    result_info = f'''<result_info><result_seq/><ext_combine_code>{ext_combine_code}</ext_combine_code><ext_combine_name>{ext_combine_name}</ext_combine_name><ext_item_code>{ext_item_code}</ext_item_code><ext_item_name>{ext_item_name}</ext_item_name><result>\n",
    "                <![CDATA[{result}]]]]>>\n",
    "                <![CDATA[</result><result_unit>\n",
    "                <![CDATA[{result_unit}]]]]>>\n",
    "                <![CDATA[</result_unit><result_flag/><result_reference>\n",
    "                <![CDATA[{result_reference}]]]]>>\n",
    "                <![CDATA[</result_reference><result_date/><result_intstrmt_name/><result_test_method/><result_suggestion/><result_remark/><lis_combine_code>{lis_combine_code}</lis_combine_code><lis_combine_name>{lis_combine_name}</lis_combine_name><lis_item_code>{lis_item_code}</lis_item_code><lis_item_name>{lis_item_name}</lis_item_name></result_info>'''\n",
    "    return result_info\n",
    "data1_bk = f'''\n",
    "<soap:Envelope\n",
    "    xmlns:soap=\"http://www.w3.org/2003/05/soap-envelope\"\n",
    "    xmlns:tem=\"http://tempuri.org/\">\n",
    "    <soap:Header/>\n",
    "    <soap:Body>\n",
    "        <tem:UploadLisRepData>\n",
    "            <!--Optional:-->\n",
    "            <tem:reportResult>\n",
    "                <![CDATA[<Report_Result><Report_Info><ext_lab_code></ext_lab_code><lis_Barcode>{lis_Barcode}</lis_Barcode>\n",
    "                <ext_Barcode>{ext_Barcode}</ext_Barcode><ext_checkItem/><pat_name>{pat_name}</pat_name><pat_age></pat_age>\n",
    "                <pat_height/><pat_wight/><pat_pre_week/><pat_id>{pat_id}</pat_id><pat_bedNo/><pat_tel/><pat_sex>{pat_sex}</pat_sex>\n",
    "                <pat_birthday/><pat_ori_name/><sam_name>{sam_name}</sam_name><sam_state>{sam_state}</sam_state>\n",
    "                <doctor_name>{doctor_name}</doctor_name><dept_name>{dept_name}</dept_name><clinical_diag/><SampleNumber/>\n",
    "                <blood_time>{blood_time}</blood_time><ext_check_ID/><ext_receive_time>{ext_receive_time}</ext_receive_time>\n",
    "                <ext_upload_time/><ext_report_suggestion/><ext_report_remark/><ext_intstrmt_name/><ext_lab_name/><ext_report_type/>\n",
    "                <ext_check_time/><ext_first_audit_time/><ext_first_audit_time/><ext_second_audit_time/><ext_checker/><ext_first_audit/>\n",
    "                <ext_second_audit/><ext_report_code>{ext_report_code}</ext_report_code>'''"
   ]
  },
  {
   "cell_type": "code",
   "execution_count": null,
   "metadata": {},
   "outputs": [],
   "source": []
  }
 ],
 "metadata": {
  "kernelspec": {
   "display_name": "Python 3",
   "language": "python",
   "name": "python3"
  },
  "language_info": {
   "codemirror_mode": {
    "name": "ipython",
    "version": 3
   },
   "file_extension": ".py",
   "mimetype": "text/x-python",
   "name": "python",
   "nbconvert_exporter": "python",
   "pygments_lexer": "ipython3",
   "version": "3.7.3"
  }
 },
 "nbformat": 4,
 "nbformat_minor": 5
}
