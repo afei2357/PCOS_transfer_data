{
 "cells": [
  {
   "cell_type": "code",
   "execution_count": 8,
   "metadata": {},
   "outputs": [],
   "source": [
    "from openpyxl import load_workbook\n",
    "import requests\n",
    "from xml.etree import ElementTree as ET\n",
    "# import HTMLParser\n",
    "from html.parser import HTMLParser\n",
    "# 运行之前记得关闭DevSidecar或者别的代理工具"
   ]
  },
  {
   "cell_type": "code",
   "execution_count": 9,
   "metadata": {},
   "outputs": [],
   "source": [
    "from openpyxl import load_workbook\n",
    "import requests,base64\n",
    "from xml.etree import ElementTree\n",
    "# 运行之前记得关闭DevSidecar或者别的代理工具"
   ]
  },
  {
   "cell_type": "code",
   "execution_count": 10,
   "metadata": {},
   "outputs": [],
   "source": [
    "# 从1、GetLisRequest 接口（获取标本信息）\n",
    "def get_patient_info(hospSampleID):\n",
    "    data = f'''<?xml version=\"1.0\" encoding=\"utf-8\"?>\n",
    "            <soap12:Envelope xmlns:xsi=\"http://www.w3.org/2001/XMLSchema-instance\" xmlns:xsd=\"http://www.w3.org/2001/XMLSchema\" xmlns:soap12=\"http://www.w3.org/2003/05/soap-envelope\">\n",
    "            <soap12:Body><GetLisRequest xmlns=\"http://tempuri.org/\"><hospSampleID>{hospSampleID}</hospSampleID>\n",
    "            </GetLisRequest></soap12:Body></soap12:Envelope>'''\n",
    "    encode_data = data.encode('utf-8')\n",
    "    # print(data)\n",
    "    headers = {\"Host\": \"10.10.11.196\",\n",
    "            \"Content-Type\": \"application/soap+xml; charset=UTF-8\",\n",
    "            \"Content-Length\": str(len(encode_data)),\n",
    "            \"SOAPAction\": \"http://tempuri.org/GetLisRequest\"}\n",
    "    patient_info = requests.post('http://58.62.17.237:4431/ExtReportService', data=encode_data ,headers=headers)\n",
    "\n",
    "    print('patient_info.header----')\n",
    "    print(patient_info.headers)\n",
    "    print('patient_info.text----') \n",
    "    return patient_info.text\n"
   ]
  },
  {
   "cell_type": "code",
   "execution_count": 75,
   "metadata": {},
   "outputs": [
    {
     "name": "stdout",
     "output_type": "stream",
     "text": [
      "patient_info.header----\n",
      "{'Server': 'nginx/1.19.2', 'Date': 'Thu, 26 May 2022 05:34:10 GMT', 'Content-Type': 'text/html; charset=utf-8', 'Content-Length': '2285', 'Connection': 'keep-alive'}\n",
      "patient_info.text----\n"
     ]
    },
    {
     "data": {
      "text/plain": [
       "'<?xml version=\"1.0\" encoding=\"utf-8\"?><soap:Envelope xmlns:soap=\"http://www.w3.org/2003/05/soap-envelope\" xmlns:xsi=\"http://www.w3.org/2001/XMLSchema-instance\" xmlns:xsd=\"http://www.w3.org/2001/XMLSchema\"><soap:Body><GetLisRequestResponse xmlns=\"http://tempuri.org/\"><GetLisRequestResult>&lt;?xml version=\"1.0\" encoding=\"utf-8\"?&gt;&lt;Data&gt;&lt;Data_Row&gt;&lt;lis_Barcode&gt;4043146697&lt;/lis_Barcode&gt;&lt;sample_no&gt;&lt;/sample_no&gt;&lt;pat_no&gt;2001155124&lt;/pat_no&gt;&lt;pat_id&gt;2001155124&lt;/pat_id&gt;&lt;pat_name&gt;何丽敏&lt;/pat_name&gt;&lt;pat_bedNo&gt;&lt;/pat_bedNo&gt;&lt;spouse_info&gt;&lt;/spouse_info&gt;&lt;blood_time&gt;2022-05-20 08:45:47&lt;/blood_time&gt;&lt;pat_sex&gt;0&lt;/pat_sex&gt;&lt;pat_birthday&gt;1998-03-14 00:00:00&lt;/pat_birthday&gt;&lt;pat_age&gt;24&lt;/pat_age&gt;&lt;pat_ageunit&gt;0&lt;/pat_ageunit&gt;&lt;pat_tel&gt;13750079374&lt;/pat_tel&gt;&lt;dept_name&gt;妇科门诊(越秀)&lt;/dept_name&gt;&lt;doctor_name&gt;余凡&lt;/doctor_name&gt;&lt;doctor_tel&gt;&lt;/doctor_tel&gt;&lt;clinical_diag&gt;[西]多囊卵巢综合征&lt;/clinical_diag&gt;&lt;samp_name&gt;血清&lt;/samp_name&gt;&lt;pat_Remark&gt;&lt;/pat_Remark&gt;&lt;Pat_From&gt;门诊&lt;/Pat_From&gt;&lt;Pat_ID&gt;&lt;/Pat_ID&gt;&lt;pat_CardNo&gt;&lt;/pat_CardNo&gt;&lt;LisItems&gt;&lt;lis_item_code&gt;32025&lt;/lis_item_code&gt;&lt;lis_item_name&gt;雄激素5项(爱湾)&lt;/lis_item_name&gt;&lt;SubItems&gt;&lt;lis_subitem_code&gt;32378&lt;/lis_subitem_code&gt;&lt;lis_subitem_name&gt;睾酮&lt;/lis_subitem_name&gt;&lt;/SubItems&gt;&lt;SubItems&gt;&lt;lis_subitem_code&gt;32379&lt;/lis_subitem_code&gt;&lt;lis_subitem_name&gt;雄烯二酮&lt;/lis_subitem_name&gt;&lt;/SubItems&gt;&lt;SubItems&gt;&lt;lis_subitem_code&gt;32380&lt;/lis_subitem_code&gt;&lt;lis_subitem_name&gt;硫酸脱氢表雄酮&lt;/lis_subitem_name&gt;&lt;/SubItems&gt;&lt;SubItems&gt;&lt;lis_subitem_code&gt;32381&lt;/lis_subitem_code&gt;&lt;lis_subitem_name&gt;脱氢表雄酮&lt;/lis_subitem_name&gt;&lt;/SubItems&gt;&lt;SubItems&gt;&lt;lis_subitem_code&gt;32383&lt;/lis_subitem_code&gt;&lt;lis_subitem_name&gt;双氢睾酮&lt;/lis_subitem_name&gt;&lt;/SubItems&gt;&lt;/LisItems&gt;&lt;/Data_Row&gt;&lt;/Data&gt;</GetLisRequestResult></GetLisRequestResponse></soap:Body></soap:Envelope>'"
      ]
     },
     "execution_count": 75,
     "metadata": {},
     "output_type": "execute_result"
    }
   ],
   "source": [
    "get_patient_info('4043146697')\n"
   ]
  },
  {
   "cell_type": "code",
   "execution_count": 11,
   "metadata": {},
   "outputs": [],
   "source": [
    " class Parse(HTMLParser):\n",
    "    def __init__(self):\n",
    "    #Since Python 3, we need to call the __init__() function \n",
    "    #of the parent class\n",
    "        super().__init__()\n",
    "        self.reset()\n",
    "        self.data = None\n",
    " \n",
    "    def handle_data(self, data):\n",
    "        # print(\"Here's the data: \", data)\n",
    "        print('HTMLParser parsering data ')\n",
    "        self.data = data\n",
    "\n",
    " "
   ]
  },
  {
   "cell_type": "code",
   "execution_count": 19,
   "metadata": {},
   "outputs": [
    {
     "name": "stdout",
     "output_type": "stream",
     "text": [
      "patient_info.header----\n",
      "{'Server': 'nginx/1.19.2', 'Date': 'Wed, 25 May 2022 07:48:56 GMT', 'Content-Type': 'text/html; charset=utf-8', 'Content-Length': '2201', 'Connection': 'keep-alive'}\n",
      "patient_info.text----\n"
     ]
    },
    {
     "data": {
      "text/plain": [
       "'<?xml version=\"1.0\" encoding=\"utf-8\"?><soap:Envelope xmlns:soap=\"http://www.w3.org/2003/05/soap-envelope\" xmlns:xsi=\"http://www.w3.org/2001/XMLSchema-instance\" xmlns:xsd=\"http://www.w3.org/2001/XMLSchema\"><soap:Body><GetLisRequestResponse xmlns=\"http://tempuri.org/\"><GetLisRequestResult>&lt;?xml version=\"1.0\" encoding=\"utf-8\"?&gt;&lt;Data&gt;&lt;Data_Row&gt;&lt;lis_Barcode&gt;43201252&lt;/lis_Barcode&gt;&lt;sample_no&gt;2&lt;/sample_no&gt;&lt;pat_no&gt;9304405028&lt;/pat_no&gt;&lt;pat_id&gt;9304405028&lt;/pat_id&gt;&lt;pat_name&gt;雄激素5项测试&lt;/pat_name&gt;&lt;pat_bedNo&gt;&lt;/pat_bedNo&gt;&lt;spouse_info&gt;&lt;/spouse_info&gt;&lt;blood_time&gt;2022-05-25 15:10:46&lt;/blood_time&gt;&lt;pat_sex&gt;0&lt;/pat_sex&gt;&lt;pat_birthday&gt;&lt;/pat_birthday&gt;&lt;pat_age/&gt;&lt;pat_ageunit/&gt;&lt;pat_tel&gt;&lt;/pat_tel&gt;&lt;dept_name&gt;测试科室&lt;/dept_name&gt;&lt;doctor_name&gt;&lt;/doctor_name&gt;&lt;doctor_tel&gt;&lt;/doctor_tel&gt;&lt;clinical_diag&gt;&lt;/clinical_diag&gt;&lt;samp_name&gt;血清&lt;/samp_name&gt;&lt;pat_Remark&gt;&lt;/pat_Remark&gt;&lt;Pat_From&gt;住院&lt;/Pat_From&gt;&lt;Pat_ID&gt;10494202205252&lt;/Pat_ID&gt;&lt;pat_CardNo&gt;&lt;/pat_CardNo&gt;&lt;LisItems&gt;&lt;lis_item_code&gt;32025&lt;/lis_item_code&gt;&lt;lis_item_name&gt;雄激素5项(爱湾)&lt;/lis_item_name&gt;&lt;SubItems&gt;&lt;lis_subitem_code&gt;32378&lt;/lis_subitem_code&gt;&lt;lis_subitem_name&gt;睾酮&lt;/lis_subitem_name&gt;&lt;/SubItems&gt;&lt;SubItems&gt;&lt;lis_subitem_code&gt;32379&lt;/lis_subitem_code&gt;&lt;lis_subitem_name&gt;雄烯二酮&lt;/lis_subitem_name&gt;&lt;/SubItems&gt;&lt;SubItems&gt;&lt;lis_subitem_code&gt;32380&lt;/lis_subitem_code&gt;&lt;lis_subitem_name&gt;硫酸脱氢表雄酮&lt;/lis_subitem_name&gt;&lt;/SubItems&gt;&lt;SubItems&gt;&lt;lis_subitem_code&gt;32381&lt;/lis_subitem_code&gt;&lt;lis_subitem_name&gt;脱氢表雄酮&lt;/lis_subitem_name&gt;&lt;/SubItems&gt;&lt;SubItems&gt;&lt;lis_subitem_code&gt;32383&lt;/lis_subitem_code&gt;&lt;lis_subitem_name&gt;双氢睾酮&lt;/lis_subitem_name&gt;&lt;/SubItems&gt;&lt;/LisItems&gt;&lt;/Data_Row&gt;&lt;/Data&gt;</GetLisRequestResult></GetLisRequestResponse></soap:Body></soap:Envelope>'"
      ]
     },
     "execution_count": 19,
     "metadata": {},
     "output_type": "execute_result"
    }
   ],
   "source": [
    "# hospSampleID = '2343127051'\n",
    "hospSampleID = '43201252'\n",
    "\n",
    "\n",
    "patient_info = get_patient_info(hospSampleID)\n",
    "patient_info"
   ]
  },
  {
   "cell_type": "code",
   "execution_count": 77,
   "metadata": {},
   "outputs": [],
   "source": [
    "# parser = Parse()\n",
    "# parser.feed(patient_info)\n",
    "# data = parser.data\n",
    "# root = ET.fromstring(data)"
   ]
  },
  {
   "cell_type": "code",
   "execution_count": 76,
   "metadata": {},
   "outputs": [],
   "source": [
    "\n",
    "# print(data)"
   ]
  },
  {
   "cell_type": "code",
   "execution_count": 79,
   "metadata": {},
   "outputs": [],
   "source": [
    "# get_tag('dept_name',patient_info)"
   ]
  },
  {
   "cell_type": "code",
   "execution_count": 57,
   "metadata": {},
   "outputs": [],
   "source": [
    "# 解析1GetLisRequest返回的xml信息：\n",
    "def get_LisRequest_data(patient_info):\n",
    "    def get_tag_raw(tag_name):\n",
    "        return root[0].find(tag_name).text\n",
    "    \n",
    "    # dct = {}\n",
    "    parser = Parse()\n",
    "    parser.feed(patient_info)\n",
    "    data = parser.data\n",
    "    root = ET.fromstring(data)\n",
    "    \n",
    "    lis_Barcode = get_tag_raw('lis_Barcode')\n",
    "    blood_time = get_tag_raw('blood_time') \n",
    "    lis_combine_code = root[0].find('LisItems').find('lis_item_code').text\n",
    "        \n",
    "    all_sub_items = root[0].find('LisItems').findall('SubItems') \n",
    "    all_lis_item_code =  [item.find('lis_subitem_code').text for item in all_sub_items]\n",
    "    all_lis_item_name =  [item.find('lis_subitem_name').text for item in all_sub_items]    \n",
    "    \n",
    "   \n",
    "    print('----patient_info-all_lis_item_name -----')    \n",
    "    print(all_lis_item_name)\n",
    "    \n",
    "    return [lis_Barcode,blood_time,lis_combine_code,all_lis_item_code]\n",
    "   \n"
   ]
  },
  {
   "cell_type": "code",
   "execution_count": 78,
   "metadata": {},
   "outputs": [],
   "source": [
    "# dct =  get_LisRequest_data(patient_info)\n",
    "# dct"
   ]
  },
  {
   "cell_type": "code",
   "execution_count": null,
   "metadata": {},
   "outputs": [],
   "source": []
  },
  {
   "cell_type": "code",
   "execution_count": 60,
   "metadata": {},
   "outputs": [],
   "source": [
    "# 解析Excel报告的信息\n",
    "def get_excel_info(infile):\n",
    "    ex  = load_workbook(infile)\n",
    "    tb = ex['报告']\n",
    "    lis_Barcode = tb.cell(row=4,column=3).value\n",
    "    # 姓名\n",
    "    # pat_name = tb.cell(row=4,column=7).value \n",
    "    # 实验号：\n",
    "    # lab_code = tb.cell(row=4,column=10).value \n",
    "    # age = tb.cell(row=5,column=3).value \n",
    "    # 性别\n",
    "    # pat_sex = tb.cell(row=5,column=7).value\n",
    "    # 送检单位：\n",
    "    # dept_name = tb.cell(row=5,column=10).value\n",
    "    # 采样日期：\t\n",
    "    blood_time = tb.cell(row=6,column=3).value\n",
    "    # 标本类型：\t\n",
    "    # sam_name = tb.cell(row=6,column=7).value\n",
    "    # 标本状态\n",
    "    # sam_state = tb.cell(row=6,column=10).value\n",
    "    ext_receive_time,ext_check_time,ext_report_time =   tb.cell(row=7,column=3).value, \\\n",
    "                                                        tb.cell(row=7,column=7).value, \\\n",
    "                                                        tb.cell(row=7,column=10).value\n",
    "\n",
    "    \n",
    "    # sheet里面从B10到H16,即检测结果的内容：\n",
    "    result_info = ''\n",
    "    i  = 0\n",
    "    for row in range(10,16+1):\n",
    "        i += 1\n",
    "        if i !=5:\n",
    "            continue\n",
    "        ext_item_code = tb.cell(row=row,column=13).value\n",
    "        # ext_item_name = tb.cell(row=row,column=2).value\n",
    "        lis_item_code = tb.cell(row=row,column=13).value     \n",
    "        # lis_item_name =  tb.cell(row=row,column=2).value\n",
    "        result = tb.cell(row=row,column=7).value    \n",
    "        result_unit = tb.cell(row=10,column=11).value  \n",
    "\n",
    "        param = [ext_item_code,ext_item_name,result,result_unit,lis_item_code]\n",
    "        result_info += set_result_info(param)\n",
    "    result_info = result_info + '<report_pic><pic_content>'\n",
    "    \n",
    "    return result_info ,lis_Barcode, blood_time, ext_receive_time, ext_check_time, ext_report_time\n"
   ]
  },
  {
   "cell_type": "code",
   "execution_count": 417,
   "metadata": {},
   "outputs": [],
   "source": [
    "lis_Barcode,blood_time,lis_combine_code,all_lis_item_code = get_LisRequest_data(patient_info)\n"
   ]
  },
  {
   "cell_type": "code",
   "execution_count": null,
   "metadata": {},
   "outputs": [],
   "source": []
  },
  {
   "cell_type": "code",
   "execution_count": 61,
   "metadata": {},
   "outputs": [
    {
     "name": "stdout",
     "output_type": "stream",
     "text": [
      "2022-05-19 2022-05-19 2022-05-20\n"
     ]
    }
   ],
   "source": [
    "infile = 'test2.xlsx'\n",
    "get_excel_info(infile)"
   ]
  },
  {
   "cell_type": "code",
   "execution_count": null,
   "metadata": {},
   "outputs": [],
   "source": []
  },
  {
   "cell_type": "code",
   "execution_count": 422,
   "metadata": {},
   "outputs": [],
   "source": [
    "# 对每个检测项目的xml的result_info设置值\n",
    "def set_result_info(*param):\n",
    "    # result_info = f'''---------{result_name}--------{result}===={result_unit}-------{result_reference}\\n'''\n",
    "    result_info = f'''    \n",
    "    <result_info>\n",
    "        <result_seq/>\n",
    "        <ext_combine_code>{ext_combine_code}</ext_combine_code>\n",
    "        <ext_combine_name>{ext_combine_name}</ext_combine_name>\n",
    "        <ext_item_code>{ext_item_code}</ext_item_code>\n",
    "        <ext_item_name>{ext_item_name}</ext_item_name>\n",
    "        <result>        <![CDATA[{result}]]]]>>        <![CDATA[</result>\n",
    "        <result_unit>        <![CDATA[{result_unit}]]]]>>   <![CDATA[</result_unit>\n",
    "        <result_flag/>\n",
    "        <result_reference>    <![CDATA[{result_reference}]]]]>>       <![CDATA[</result_reference>\n",
    "        <result_date/>\n",
    "        <result_intstrmt_name/>\n",
    "        <result_test_method/>\n",
    "        <result_suggestion/>\n",
    "        <result_remark/>\n",
    "        <lis_combine_code>{lis_combine_code}</lis_combine_code>\n",
    "        <lis_combine_name>{lis_combine_name}</lis_combine_name>\n",
    "        <lis_item_code>{lis_item_code}</lis_item_code>\n",
    "        <lis_item_name>{lis_item_name}</lis_item_name>    \n",
    "    </result_info>\n",
    "   '''\n",
    "    return result_info"
   ]
  },
  {
   "cell_type": "code",
   "execution_count": 430,
   "metadata": {},
   "outputs": [],
   "source": [
    "# 要发送的xml的第一部分信息：\n",
    "# import string \n",
    "def set_data1(*param):\n",
    "    data1 = f'''\n",
    "    <soap:Envelope\n",
    "        xmlns:soap=\"http://www.w3.org/2003/05/soap-envelope\"\n",
    "        xmlns:tem=\"http://tempuri.org/\">\n",
    "        <soap:Header/>\n",
    "        <soap:Body>\n",
    "            <tem:UploadLisRepData>\n",
    "                <!--Optional:-->\n",
    "                <tem:reportResult>\n",
    "                    <![CDATA[<Report_Result><Report_Info>\n",
    "                    <ext_lab_code></ext_lab_code>\n",
    "                    <lis_Barcode>{lis_Barcode}</lis_Barcode>\n",
    "                    <ext_Barcode>{ext_Barcode}</ext_Barcode>\n",
    "                    <ext_checkItem/>\n",
    "                    <pat_name/>\n",
    "                    <pat_age></pat_age>\n",
    "                    <pat_height/>\n",
    "                    <pat_wight/>\n",
    "                    <pat_pre_week/>\n",
    "                    <pat_id/>\n",
    "                    <pat_bedNo/>\n",
    "                    <pat_tel/>\n",
    "                    <pat_sex/>\n",
    "                    <pat_birthday/>\n",
    "                    <pat_ori_name/>\n",
    "                    <sam_name/>\n",
    "                    <sam_state/>\n",
    "                    <doctor_name/>\n",
    "                    <dept_name/>\n",
    "                    <clinical_diag/>\n",
    "                    <SampleNumber/>\n",
    "                    <blood_time>{blood_time}</blood_time>\n",
    "                    <ext_check_ID/>\n",
    "                    <ext_receive_time>{ext_receive_time}</ext_receive_time>\n",
    "                    <ext_upload_time/>\n",
    "                    <ext_report_suggestion/>\n",
    "                    <ext_report_remark/>\n",
    "                    <ext_intstrmt_name/>\n",
    "                    <ext_lab_name/>\n",
    "                    <ext_report_type/>\n",
    "                    <ext_check_time/>\n",
    "                    <ext_first_audit_time/>\n",
    "                    <ext_first_audit_time/>\n",
    "                    <ext_second_audit_time/>\n",
    "                    <ext_checker/>\n",
    "                    <ext_first_audit/>\n",
    "                    <ext_second_audit/>\n",
    "                    <ext_report_code>{lis_Barcode}</ext_report_code>\n",
    "    '''\n",
    "    return data1 "
   ]
  },
  {
   "cell_type": "code",
   "execution_count": 80,
   "metadata": {},
   "outputs": [],
   "source": [
    "# xml的结尾部分\n",
    "data3 = '''</pic_content><pic_name>test_base64.pdf</pic_name><pic_seq></pic_seq></report_pic></Report_Info></Report_Result>]]>\n",
    "            </tem:reportResult>\n",
    "        </tem:UploadLisRepData>\n",
    "    </soap:Body>\n",
    "</soap:Envelope>\n",
    "    '''"
   ]
  },
  {
   "cell_type": "code",
   "execution_count": 81,
   "metadata": {},
   "outputs": [],
   "source": [
    "# pdf部分\n",
    "def get_pdf(inpdf):\n",
    "    data2 = ''\n",
    "    with open(inpdf,'rb') as fh:\n",
    "            data2 = base64.b64encode(fh.read())\n"
   ]
  },
  {
   "cell_type": "code",
   "execution_count": 82,
   "metadata": {},
   "outputs": [],
   "source": [
    "# 最后是将xml和pdf的信息发送到妇幼\n",
    "def send_data(data1,result_info,data2,data3):\n",
    "    data3 = '''</pic_content><pic_name>test_base64.pdf</pic_name><pic_seq></pic_seq></report_pic></Report_Info></Report_Result>]]>\n",
    "            </tem:reportResult>\n",
    "        </tem:UploadLisRepData>\n",
    "    </soap:Body>\n",
    "</soap:Envelope>\n",
    "    '''\n",
    "    encode_data = data1.encode('utf-8') +result_info.encode('utf-8') + data2 +  data3.encode('utf-8')\n",
    "    \n",
    "    headers = {\"Host\": \"10.10.11.196\",\n",
    "            \"Content-Type\": \"text/xml; charset=utf-8\",\n",
    "            \"Content-Length\": str(len(encode_data)) ,#}\n",
    "            \"SOAPAction\": \"http://tempuri.org/UploadLisRepData\"}\n",
    "    patient_info = requests.post(f'http://58.62.17.237:4431/ExtReportService', data=encode_data ,headers=headers)\n",
    "\n",
    "    print('patient_info.text----')    \n",
    "    print(patient_info.text)\n",
    "    # lis_Barcode\n",
    "    with open('test_in_parm_ok_17Alpha.xml','wb') as fh:\n",
    "        fh.write(encode_data)\n"
   ]
  },
  {
   "cell_type": "code",
   "execution_count": 74,
   "metadata": {},
   "outputs": [
    {
     "data": {
      "text/plain": [
       "'=======aaaaaa----bbb'"
      ]
     },
     "execution_count": 74,
     "metadata": {},
     "output_type": "execute_result"
    }
   ],
   "source": [
    "f'======={d[\"a\"]}----{d[\"b\"]}'\n"
   ]
  },
  {
   "cell_type": "code",
   "execution_count": 87,
   "metadata": {},
   "outputs": [],
   "source": [
    "import os\n",
    "if not os.path.exists('workdir'):\n",
    "    os.mkdir('workdir')"
   ]
  },
  {
   "cell_type": "code",
   "execution_count": null,
   "metadata": {},
   "outputs": [],
   "source": [
    "def main():\n",
    "    hospSampleID = '100311224212'\n",
    "    # 1 读取：从1、GetLisRequest接口（获取标本信息）\n",
    "    get_patient_info(hospSampleID)\n",
    "    # 2 读取Excel：\n",
    "\n"
   ]
  },
  {
   "cell_type": "code",
   "execution_count": 89,
   "metadata": {},
   "outputs": [
    {
     "data": {
      "text/plain": [
       "'----aaa======='"
      ]
     },
     "execution_count": 89,
     "metadata": {},
     "output_type": "execute_result"
    }
   ],
   "source": [
    "d = {'a':'aaa','b':'bbb'}\n",
    "f'----{d[\"a\"]}======='"
   ]
  },
  {
   "cell_type": "markdown",
   "metadata": {
    "jp-MarkdownHeadingCollapsed": true,
    "tags": []
   },
   "source": [
    "# ------------- 下面的代码不再使用\n",
    "# 解析Excel报告的信息\n",
    "def get_excel_info_bk(infile):\n",
    "    ex  = load_workbook(infile)\n",
    "    tb = ex['报告']\n",
    "    lis_Barcode = tb.cell(row=4,column=3).value\n",
    "    # 姓名\n",
    "    pat_name = tb.cell(row=4,column=7).value \n",
    "    # 实验号：\n",
    "    lab_code = tb.cell(row=4,column=10).value \n",
    "    age = tb.cell(row=5,column=3).value \n",
    "    # 性别\n",
    "    pat_sex = tb.cell(row=5,column=7).value\n",
    "    # 送检单位：\n",
    "    dept_name = tb.cell(row=5,column=10).value\n",
    "    # 采样日期：\t\n",
    "    blood_time = tb.cell(row=6,column=3).value\n",
    "    # 标本类型：\t\n",
    "    sam_name = tb.cell(row=6,column=7).value\n",
    "    # 标本状态\n",
    "    sam_state = tb.cell(row=6,column=10).value\n",
    "    ext_receive_time,ext_check_time,ext_report_time =   tb.cell(row=7,column=3).value, \\\n",
    "                                                        tb.cell(row=7,column=7).value, \\\n",
    "                                                        tb.cell(row=7,column=10).value\n",
    "\n",
    "    # sheet里面从B10到H16,即检测结果的内容：\n",
    "    result_info = ''\n",
    "    i  = 0\n",
    "    for row in range(10,16+1):\n",
    "        i += 1\n",
    "        # if i > 1:\n",
    "        #     break\n",
    "        if i !=5:\n",
    "            continue\n",
    "        ext_item_code = tb.cell(row=row,column=13).value\n",
    "        ext_item_name = tb.cell(row=row,column=2).value\n",
    "        lis_item_code = tb.cell(row=row,column=13).value     \n",
    "        lis_item_name =  tb.cell(row=row,column=2).value\n",
    "        result = tb.cell(row=row,column=7).value    \n",
    "        result_unit = tb.cell(row=10,column=11).value  \n",
    "        # result_reference = tb.cell(row=row+9,column=8).value      # result_reference不能超过29个字符\n",
    "        # if  len(result_reference) > 27:\n",
    "            # result_reference = result_reference[0:27]\n",
    "            # result_reference = ''\n",
    "\n",
    "\n",
    "        param = [ext_item_code,ext_item_name,result,result_unit,lis_item_code,]\n",
    "        result_info += set_result_info(param)\n",
    "    result_info = result_info + '<report_pic><pic_content>'\n",
    "    \n",
    "    return result_info \n",
    "# print(result_info)\n",
    "\n",
    "# 解析1GetLisRequest返回的xml信息：\n",
    "def get_LisRequest_data_dict_bk(patient_info):\n",
    "    def get_tag_raw(tag_name):\n",
    "        return root[0].find(tag_name).text\n",
    "    \n",
    "    dct = {}\n",
    "    parser = Parse()\n",
    "    parser.feed(patient_info)\n",
    "    data = parser.data\n",
    "    root = ET.fromstring(data)\n",
    "    \n",
    "    dct['lis_Barcode'] = get_tag_raw('lis_Barcode')\n",
    "    dct['blood_time'] = get_tag_raw('blood_time') \n",
    "    dct['lis_combine_code'] = root[0].find('LisItems').find('lis_item_code').text\n",
    "        \n",
    "    all_sub_items = root[0].find('LisItems').findall('SubItems') \n",
    "    all_lis_item_code =  [item.find('lis_subitem_code').text for item in all_sub_items]\n",
    "    all_lis_item_name =  [item.find('lis_subitem_name').text for item in all_sub_items]    \n",
    "    \n",
    "    dct['all_lis_item_code'] = all_lis_item_code\n",
    "    dct['all_lis_item_name'] = all_lis_item_name  \n",
    "    \n",
    "    print('----patient_info-to- dict -----')    \n",
    "    print(dct)\n",
    "    \n",
    "    return dct\n",
    "   \n"
   ]
  }
 ],
 "metadata": {
  "kernelspec": {
   "display_name": "Python 3",
   "language": "python",
   "name": "python3"
  },
  "language_info": {
   "codemirror_mode": {
    "name": "ipython",
    "version": 3
   },
   "file_extension": ".py",
   "mimetype": "text/x-python",
   "name": "python",
   "nbconvert_exporter": "python",
   "pygments_lexer": "ipython3",
   "version": "3.7.3"
  }
 },
 "nbformat": 4,
 "nbformat_minor": 5
}
